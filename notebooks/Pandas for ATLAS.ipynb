{
 "cells": [
  {
   "cell_type": "markdown",
   "metadata": {},
   "source": [
    "# Introduction to Pandas\n",
    "\n",
    "In this tutorial you will be introduced to using the Pandas Data Frame to read and manipulate data. By the end of this tutorial you should be able to:\n",
    "\n",
    "- Read in .csv data.\n",
    "- Select columns.\n",
    "- Locating elements based on a boolean condition.\n",
    "\n",
    "\n",
    "## Pandas Documentation\n",
    "\n",
    "Just like any other popular python library, pandas is widely used and well documented. This means there will be plenty of solutions to common bugs on Stack Overflow. If at any point you are unsure about syntax, google what you'd like to do and you're likely to find a solution. \n",
    "\n",
    "## Reading Data from .csv\n",
    "\n",
    "Pandas makes reading data from .csv (comma separated values) extremely easy. If you haven't seen a .csv file before don't worry, it is simply a set of values separated by a comma. Open the bikes.csv file in the data-v1 folder from desktop and see what it looks like. \n",
    "\n",
    "Let's now open the bikes.csv file in pandas. "
   ]
  },
  {
   "cell_type": "code",
   "execution_count": null,
   "metadata": {},
   "outputs": [],
   "source": [
    "# Importing the pandas library\n",
    "import pandas as pd\n",
    "\n",
    "# Read from csv\n",
    "bike_df = pd.read_csv('../data-v1/bikes.csv')\n",
    "\n",
    "bike_df"
   ]
  },
  {
   "cell_type": "markdown",
   "metadata": {},
   "source": [
    "## Getting list of Columns\n",
    "\n",
    "A list of columns can be retrieved from the data frame using the code below. "
   ]
  },
  {
   "cell_type": "code",
   "execution_count": null,
   "metadata": {},
   "outputs": [],
   "source": [
    "bike_df.columns.values"
   ]
  },
  {
   "cell_type": "markdown",
   "metadata": {},
   "source": [
    "## Selecting a Columns\n",
    "\n",
    "The above data is organised in columns with each column showing the number of bikes at each location. If we wanted to retrieve a particular column we would use the syntax below:  "
   ]
  },
  {
   "cell_type": "code",
   "execution_count": null,
   "metadata": {},
   "outputs": [],
   "source": [
    "bike_df['Côte-Sainte-Catherine']"
   ]
  },
  {
   "cell_type": "markdown",
   "metadata": {},
   "source": [
    "### Setting index\n",
    "\n",
    "The above data is *indexed* by meaningless integers. It would be more convenient to organise it by date. To do this we can set the index in pandas to a particular column using the set_index function. "
   ]
  },
  {
   "cell_type": "code",
   "execution_count": null,
   "metadata": {},
   "outputs": [],
   "source": [
    "# We do not usually have to reload data. Done here for demonstration. \n",
    "bike_df = pd.read_csv('../data-v1/bikes.csv')\n",
    "\n",
    "# Setting index\n",
    "bike_df = bike_df.set_index('Date')\n",
    "\n",
    "#Selecting column\n",
    "bike_df['Côte-Sainte-Catherine']"
   ]
  },
  {
   "cell_type": "markdown",
   "metadata": {},
   "source": [
    "## Getting Index Values\n",
    "\n",
    "One can retrieve a list the index values for the data frame using the code below. The list can be stored in an array to be used later. "
   ]
  },
  {
   "cell_type": "code",
   "execution_count": null,
   "metadata": {},
   "outputs": [],
   "source": [
    "# Getting index values\n",
    "indices = bike_df.index.values\n",
    "\n",
    "# Looping through the list of values and printing each element\n",
    "for index in indices:\n",
    "    print(index)"
   ]
  },
  {
   "cell_type": "markdown",
   "metadata": {},
   "source": [
    "## Locating from Index\n",
    "\n",
    "To locate an element from the data frame using the index of the element we can use the .loc function. \n",
    "\n",
    "```\n",
    "    df.loc['index']\n",
    "    \n",
    "```\n",
    "\n",
    "An example is shown below where we have first randomly selected an index from the list of indices retrieved earlier and then used this to retrieve the corresponding row. "
   ]
  },
  {
   "cell_type": "code",
   "execution_count": null,
   "metadata": {},
   "outputs": [],
   "source": [
    "import random\n",
    "\n",
    "random_index = random.choice(indices)\n",
    "print(\"The randomly selected index is\", random_index)\n",
    "bike_df.loc[random_index]"
   ]
  },
  {
   "cell_type": "markdown",
   "metadata": {},
   "source": [
    "**Exercise: using the data frame indexed by date print every 20th element. Hint: the list _indices_ is indexed as 0,1,2,3... You could loop through this.**\n",
    "\n"
   ]
  },
  {
   "cell_type": "markdown",
   "metadata": {},
   "source": [
    "## Locating using boolean operators\n",
    "\n",
    "We can also locate elements based on boolean operations. This means, we can select elements if they meet a certain condition. This is again, best illustrated with an example.\n",
    "\n",
    "In the code below we will use our data frame to create a subset of the data that only contains elements where there were more than  200 bikes in 'du parc'. "
   ]
  },
  {
   "cell_type": "code",
   "execution_count": null,
   "metadata": {},
   "outputs": [],
   "source": [
    "print(\"The original data frame has shape\", bike_df.shape)\n",
    "sub_df = bike_df.loc[bike_df['du Parc']>200]\n",
    "print(\"The reduced data frame has shape\", sub_df.shape)"
   ]
  },
  {
   "cell_type": "markdown",
   "metadata": {},
   "source": [
    "By cutting out all elements in the data frame that have less than 200 bikes in 'du Parc' we have 258 values in the data frame instead of the original 310. "
   ]
  }
 ],
 "metadata": {
  "kernelspec": {
   "display_name": "Python 3",
   "language": "python",
   "name": "python3"
  },
  "language_info": {
   "codemirror_mode": {
    "name": "ipython",
    "version": 3
   },
   "file_extension": ".py",
   "mimetype": "text/x-python",
   "name": "python",
   "nbconvert_exporter": "python",
   "pygments_lexer": "ipython3",
   "version": "3.7.6"
  }
 },
 "nbformat": 4,
 "nbformat_minor": 2
}
