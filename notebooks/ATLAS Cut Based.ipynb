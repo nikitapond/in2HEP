{
 "cells": [
  {
   "cell_type": "code",
   "execution_count": null,
   "metadata": {},
   "outputs": [],
   "source": [
    "# Download the data files if we need them. If you download the repo as a ZIP, \n",
    "# this cell is not needed. If running on colab, it will automatically download\n",
    "# all required data.\n",
    "\n",
    "from pathlib import Path\n",
    "\n",
    "\n",
    "data_path = Path('../data-v2/VHbb_data_2jet.csv')\n",
    "class_path = Path('ucl_masterclass.py')\n",
    "if not data_path.exists():\n",
    "    !wget -P ../data-v2/ https://raw.githubusercontent.com/nikitapond/in2HEP/master/data-v2/VHbb_data_2jet.csv\n",
    "else:\n",
    "    print(\"Data file already found\")\n",
    "\n",
    "if not class_path.exists():\n",
    "    !wget https://raw.githubusercontent.com/nikitapond/in2HEP/master/notebooks/ucl_masterclass.py\n",
    "else:\n",
    "    print(\"Required custom classes already found\")"
   ]
  },
  {
   "cell_type": "markdown",
   "metadata": {},
   "source": [
    "## 2. $H\\rightarrow b\\bar{b}$ via Sequential Cuts\n",
    "\n",
    "To provide a simple baseline analysis, which can be used to compare a multivariate based analysis to, a set of selection cuts on the kinematic and topological paramaters first needs to be optimised. The goal is to apply cuts that maximise the _signal sensitivity_. Cuts should be applied on all variables other than $m_{bb}$, as the $m_{bb}$ distribution is used to evalute the _signal sensitivity_, which is calculated on a bin-by-bin basis from a given distribution ($m_{bb}$ is the most sensitive single variable, so in the absence of a multivariate approach, it is the best single variable to use to distinguish signal from background).\n",
    "\n",
    "# 2.1 Why do we apply cuts?\n",
    "\n",
    "In particle physics, we want to try and find some evidence of a signal process, such as the production of a Higgs boson, which then decays to 2 b-jets. We do this by measuring the final particles, the b-jets, and then adding up their properties to find the properties of the Higgs. By doing this, we can find properties such as the Higgs mass. In the first example below, we show an ideal case, where we have a lot of Higgs bosons produced, and no background."
   ]
  },
  {
   "cell_type": "code",
   "execution_count": null,
   "metadata": {},
   "outputs": [],
   "source": [
    "# Importing required libraries\n",
    "import pandas as pd\n",
    "import numpy as np\n",
    "import matplotlib.pyplot as plt\n",
    "from copy import deepcopy\n",
    "\n",
    "from ucl_masterclass import *"
   ]
  },
  {
   "cell_type": "markdown",
   "metadata": {},
   "source": [
    "# 2.1.1 An Ideal Case"
   ]
  },
  {
   "cell_type": "code",
   "execution_count": null,
   "metadata": {},
   "outputs": [],
   "source": [
    "\n",
    "def generate_dummy_signal(n):\n",
    "    '''\n",
    "    Generates a dummy Higgs signal with a mean of 125 and a standard deviation of 1.\n",
    "    '''\n",
    "    return 125 + np.random.randn(n)*5\n",
    "\n",
    "def make_hist(data, title):\n",
    "    '''\n",
    "    Makes a histogram of the data.\n",
    "    '''\n",
    "    plt.hist(data, bins=np.linspace(50, 200, 50));\n",
    "    plt.xlabel(\"Mass [GeV]\")\n",
    "    plt.ylabel(\"Number of Events\")\n",
    "    plt.title(title)\n",
    "\n",
    "make_hist(generate_dummy_signal(20000), \"Dummy signal data\")\n"
   ]
  },
  {
   "cell_type": "markdown",
   "metadata": {},
   "source": [
    "# 2.1.2 What about background\n",
    "\n",
    "In the above example, we can clearly see a peak at 125 GeV, highlighting a particle that exists with this mass. But this is an ideal case, with a lot of signal, and no background. What happens if we change these two factors?\n"
   ]
  },
  {
   "cell_type": "code",
   "execution_count": null,
   "metadata": {},
   "outputs": [],
   "source": [
    "def generate_dummy_background(n):\n",
    "\n",
    "    exp_bkg = np.random.exponential(100, n)\n",
    "    gaus_bkg_1 = np.random.randn(n)*30 + 100\n",
    "    gaus_bkg_2 = np.random.randn(n)*30 + 200\n",
    "    return np.concatenate([exp_bkg, gaus_bkg_1, gaus_bkg_2])\n",
    "\n",
    "# Generate a dummy background, caused by several other processes\n",
    "dummy_back = generate_dummy_background(20000)\n",
    "# Generate a dummy signal, caused by the Higgs boson, with high statistics\n",
    "dummy_signal = generate_dummy_signal(20000)\n",
    "# What we actually measure is all the signal and background\n",
    "dummy_measured = np.concatenate([dummy_back, dummy_signal])\n",
    "make_hist(dummy_measured, \"Dummy measured data\")"
   ]
  },
  {
   "cell_type": "markdown",
   "metadata": {},
   "source": [
    "In the above case, we've added some background, and made it more realistic, but we still have a lot of signal and so its still easy to see the peak at 125 GeV"
   ]
  },
  {
   "cell_type": "markdown",
   "metadata": {},
   "source": [
    "# 2.1.3 Lowering the signal\n",
    "\n",
    "The actual rate at which Higgs bosons is produced is signficantly smaller than the background. Lets see how that effects these plots"
   ]
  },
  {
   "cell_type": "code",
   "execution_count": null,
   "metadata": {},
   "outputs": [],
   "source": [
    "\n",
    "# Generate a dummy background, caused by several other processes\n",
    "dummy_back = generate_dummy_background(10000)\n",
    "# Generate a dummy signal, caused by the Higgs boson, with low statistics\n",
    "dummy_signal = generate_dummy_signal(250)\n",
    "# What we actually measure is all the signal and background\n",
    "dummy_measured = np.concatenate([dummy_back, dummy_signal])\n",
    "\n",
    "make_hist(dummy_measured, \"Dummy measured data\")\n"
   ]
  },
  {
   "cell_type": "markdown",
   "metadata": {},
   "source": [
    "The above plot will look different each time you run it, due to the random numbers utilised. This is very similar to what actually happens in the ATLAS detector, with random fluctations in data occuring. Sometimes, you might get lucky and see a clear peak around 125 GeV, but a lot of the time you wont. Even worse, you might see random peaks elsewhere!\n",
    "So, how can we find our Higgs boson when there's so much other stuff going on?\n",
    "We can apply cuts!\n"
   ]
  },
  {
   "cell_type": "markdown",
   "metadata": {},
   "source": [
    "# 2.1.4 Ideal cuts\n",
    "In this ideal example, we shall apply 'cuts' which just reduce the amount of background and signal we have, but at ideal rates"
   ]
  },
  {
   "cell_type": "code",
   "execution_count": null,
   "metadata": {},
   "outputs": [],
   "source": [
    "bgk_factor = 0.5\n",
    "signal_factor = 0.9\n",
    "num_cuts = 4\n",
    "bkg_reduced = 1.0\n",
    "sig_reduced = 1.0\n",
    "\n",
    "dummy_back = generate_dummy_background(10000)\n",
    "dummy_signal = generate_dummy_signal(250)\n",
    "\n",
    "plt.title(\"Measured data after cuts\")\n",
    "plt.xlabel(\"Mass [GeV]\")\n",
    "plt.ylabel(\"Number of Events\")\n",
    "plt.hist(np.concatenate([dummy_back, dummy_signal]), bins=np.linspace(50, 200, 50), label=\"No cuts\");\n",
    "for i in range(num_cuts):\n",
    "    bkg_reduced *= bgk_factor\n",
    "    sig_reduced *= signal_factor\n",
    "    dummy_measured = np.concatenate([dummy_back[:int(len(dummy_back)*bkg_reduced)], dummy_signal[:int(len(dummy_signal)*sig_reduced)]])\n",
    "    plt.hist(dummy_measured, bins=np.linspace(50, 200, 50), label=f\"Cut {i+1}\");\n",
    "plt.legend()\n"
   ]
  },
  {
   "cell_type": "markdown",
   "metadata": {},
   "source": [
    "In this final plot, we can see that after applying a series of cuts to our signal and background, we eventually start to see our peak more and more clearly. Once we can see a peak clearly above the background noise, we can use it to declare that we've found a Higgs.\n",
    "\n",
    "When it actually comes to declaring we've discovered a particle, we need to ensure that the peak we see is larger than the random noise fluctuations we see in the background. If we don't do this check, and say every peak we see is a new particle, we'd be discovering new particles every week! We aim to find a peak which is statistically significant compared to the background, this means we calculate the probability that a peak is down to random noise. To discover a particle, we require the probability of the peak being caused by random noise to be approximatly 1 in a billion!"
   ]
  },
  {
   "cell_type": "markdown",
   "metadata": {},
   "source": [
    "# 2.2 A more realistic example\n",
    "\n",
    "In the above code, we generated some dummy data, with a clear peak from the Higgs boson decay, and a few different possible background processes. When applying cuts, we just imaged we were able to apply a cut that reduced the background by 50%, while only reducing the signal by 10%. We also only generated a single variable, the sum of the mass of the two b-jets. In real data, each point represents an event in the ATLAS detector. But how do we know if the cuts we're applying are working? The way we do this is to instead work with simulations, and compare these to what we see in the data. These are called Monte-Carlo (MC) simulations, as they involve random numbers, as they simulate quantum processes which have an intrinstic random nature. When we generate MC, we know what processes we have generated, and so we can plot all the different background and signal events with different colours, to make it clear what each processes is contributing. Below, lets look at the distributions for some of our variables:"
   ]
  },
  {
   "cell_type": "code",
   "execution_count": null,
   "metadata": {},
   "outputs": [],
   "source": [
    "# Load data into a pandas data frame\n",
    "df = pd.read_csv('../data-v2/VHbb_data_2jet.csv')\n",
    "df_original = deepcopy(df)\n",
    "\n",
    "# The plot_variable takes two arguments. First is the data frame used to plot the distributions and\n",
    "# second is the variable in question.\n",
    "plot_variable(df,'mBB') # Draw the mBB distribution\n",
    "plot_variable(df,'pTB1') # Draw the pTB1 distribution\n",
    "plot_variable(df,'Mtop') # Draw the pTV distribution"
   ]
  },
  {
   "cell_type": "markdown",
   "metadata": {},
   "source": [
    "We see that the signal and background distributions in the above plots are different. We can use this information to figure out what cuts to apply to try and maximise our *sensitivity*"
   ]
  },
  {
   "cell_type": "markdown",
   "metadata": {},
   "source": [
    "## 2.2.1 What is Sensitivity?\n",
    "\n",
    "Sensitivity is the quantative measure of how much our peak sticks up above the background. It has a fancy calculation that we don't need to get into, but the rough idea is this:\n",
    "- Take our histogram of signal and background\n",
    "- For each bin, calculate a per bin sensitivity. The per bin sensitivity increases when we have more signal in that bin.\n",
    "- Add up the per-bin sensitivity \n",
    "\n",
    "In the below cell, we calculate the sensitivity on the variable $m_{bb}$, this is the mass we get by adding the two b-jets, which for signal represents the mass of the Higgs boson."
   ]
  },
  {
   "cell_type": "code",
   "execution_count": null,
   "metadata": {},
   "outputs": [],
   "source": [
    "# The code below plots the mBB distribution before any selection is applied\n",
    "plot_variable(df_original,'mBB')\n",
    "# Calculate and output the sensitivity based up the original mBB distribution prior to any selection\n",
    "# The sensitivity is calculated using the profile likelihood ratio test and Asimov approach\n",
    "print(\"Sensitivity achieved before cuts \",sensitivity_cut_based(df_original))"
   ]
  },
  {
   "cell_type": "markdown",
   "metadata": {},
   "source": [
    "We can try and apply a simple cut to increase our sensitivity, which we do below"
   ]
  },
  {
   "cell_type": "code",
   "execution_count": null,
   "metadata": {},
   "outputs": [],
   "source": [
    "# Apply cut\n",
    "df = df.loc[df[\"Mtop\"] / 1e3 > 100] # divide by 1e3 to convert from MeV to GeV\n",
    "\n",
    "# The code below plots the mBB distribution before any selection is applied\n",
    "plot_variable(df_original,'mBB')\n",
    "\n",
    "# Calculate and output the sensitivity based up the original mBB distribution prior to any selection\n",
    "# The sensitivity is calculated using the profile likelihood ratio test and Asimov approach\n",
    "print(\"Sensitivity achieved before cuts \",sensitivity_cut_based(df_original))\n",
    "\n",
    "# The code below plots the mBB distribution after the selection has applied\n",
    "plot_variable(df,'mBB')\n",
    "\n",
    "# Calculate and output the sensitivity based up the mBB distribution after the selectoin has been applied\n",
    "print(\"Sensitivity achieved after cuts \",sensitivity_cut_based(df))"
   ]
  },
  {
   "cell_type": "markdown",
   "metadata": {},
   "source": [
    "Here we see we wre able to increase the sensitivity by cutting on the variable 'Mtop'.\n",
    "Is the cut we tried above optimal? \n",
    "- Try changing the point at which we cut. At the moment it 100 GeV, try a different value\n",
    "- At the moment, we remove everything below 100 GeV - what happens if you remove everything above a certain cut value?"
   ]
  },
  {
   "cell_type": "code",
   "execution_count": null,
   "metadata": {},
   "outputs": [],
   "source": [
    "# Try out some cuts here! Copy and paste the relevent code from the above cell\n"
   ]
  },
  {
   "attachments": {},
   "cell_type": "markdown",
   "metadata": {},
   "source": [
    "##### Multiple cuts\n",
    "\n",
    "As well as applying cuts on a single variable, you should also attempt to apply multiple cuts one after the other. Are optimal cuts over two variables at the same point when cutting on a single variable?"
   ]
  },
  {
   "attachments": {},
   "cell_type": "markdown",
   "metadata": {},
   "source": [
    "**Based upon material originally produced by hackingEducation for use in outreach**  \n",
    "<img src=\"images/logo-black.png\" width=\"50\" align = 'left'/>"
   ]
  },
  {
   "cell_type": "markdown",
   "metadata": {},
   "source": []
  }
 ],
 "metadata": {
  "kernelspec": {
   "display_name": "Python 3",
   "language": "python",
   "name": "python3"
  },
  "language_info": {
   "codemirror_mode": {
    "name": "ipython",
    "version": 3
   },
   "file_extension": ".py",
   "mimetype": "text/x-python",
   "name": "python",
   "nbconvert_exporter": "python",
   "pygments_lexer": "ipython3",
   "version": "3.10.9"
  },
  "vscode": {
   "interpreter": {
    "hash": "e4f39047f4e9cc9b3ad58404b253244e49dbf604894e0d0c8162e12c995ace6c"
   }
  }
 },
 "nbformat": 4,
 "nbformat_minor": 4
}
