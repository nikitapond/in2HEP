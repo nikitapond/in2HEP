{
 "cells": [
  {
   "cell_type": "markdown",
   "metadata": {},
   "source": [
    "## 3. $H\\rightarrow b\\bar{b}$ via Machine Learning \n",
    "\n",
    "### 3.1 Importing libraries and loading \n"
   ]
  },
  {
   "cell_type": "code",
   "execution_count": 1,
   "metadata": {},
   "outputs": [
    {
     "name": "stdout",
     "output_type": "stream",
     "text": [
      "Data file already found\n",
      "Train data file already found\n",
      "Validation data file already found\n",
      "Test data file already found\n",
      "Required custom classes already found\n"
     ]
    }
   ],
   "source": [
    "# Download the data files if we need them. If you download the repo as a ZIP, \n",
    "# this cell is not needed. If running on colab, it will automatically download\n",
    "# all required data.\n",
    "\n",
    "from pathlib import Path\n",
    "\n",
    "data_path = Path('../data-v2/VHbb_data_2jet.csv')\n",
    "train_data_path = Path('../data-v2/VHbb_data_2jet_train.csv')\n",
    "val_data_path = Path('../data-v2/VHbb_data_2jet_val.csv')\n",
    "test_data_path = Path('../data-v2/VHbb_data_2jet_test.csv')\n",
    "class_path = Path('ucl_masterclass.py')\n",
    "if not data_path.exists():\n",
    "    !wget -P ../data-v2/ https://raw.githubusercontent.com/nikitapond/in2HEP/master/data-v2/VHbb_data_2jet.csv\n",
    "else:\n",
    "    print(\"Data file already found\")\n",
    "\n",
    "if not train_data_path.exists():\n",
    "    !wget -P ../data-v2 https://raw.githubusercontent.com/nikitapond/in2HEP/master/data-v2/VHbb_data_2jet_train.csv\n",
    "else:\n",
    "    print(\"Train data file already found\")\n",
    "\n",
    "if not val_data_path.exists():\n",
    "    !wget -P ../data-v2 https://raw.githubusercontent.com/nikitapond/in2HEP/master/data-v2/VHbb_data_2jet_val.csv\n",
    "else:\n",
    "    print(\"Validation data file already found\")\n",
    "\n",
    "if not test_data_path.exists():\n",
    "    !wget -P ../data-v2 https://raw.githubusercontent.com/nikitapond/in2HEP/master/data-v2/VHbb_data_2jet_test.csv\n",
    "else:\n",
    "    print(\"Test data file already found\")\n",
    "\n",
    "if not class_path.exists():\n",
    "    !wget https://raw.githubusercontent.com/nikitapond/in2HEP/master/notebooks/ucl_masterclass.py\n",
    "else:\n",
    "    print(\"Required custom classes already found\")"
   ]
  },
  {
   "cell_type": "code",
   "execution_count": 2,
   "metadata": {},
   "outputs": [
    {
     "ename": "ModuleNotFoundError",
     "evalue": "No module named 'keras'",
     "output_type": "error",
     "traceback": [
      "\u001b[0;31m---------------------------------------------------------------------------\u001b[0m",
      "\u001b[0;31mModuleNotFoundError\u001b[0m                       Traceback (most recent call last)",
      "Cell \u001b[0;32mIn[2], line 4\u001b[0m\n\u001b[1;32m      2\u001b[0m \u001b[38;5;28;01mfrom\u001b[39;00m \u001b[38;5;21;01mcopy\u001b[39;00m \u001b[38;5;28;01mimport\u001b[39;00m deepcopy\n\u001b[1;32m      3\u001b[0m \u001b[38;5;28;01mfrom\u001b[39;00m \u001b[38;5;21;01mucl_masterclass\u001b[39;00m \u001b[38;5;28;01mimport\u001b[39;00m \u001b[38;5;241m*\u001b[39m\n\u001b[0;32m----> 4\u001b[0m \u001b[38;5;28;01mfrom\u001b[39;00m \u001b[38;5;21;01mkeras\u001b[39;00m\u001b[38;5;21;01m.\u001b[39;00m\u001b[38;5;21;01mmodels\u001b[39;00m \u001b[38;5;28;01mimport\u001b[39;00m Sequential\n\u001b[1;32m      5\u001b[0m \u001b[38;5;28;01mfrom\u001b[39;00m \u001b[38;5;21;01mkeras\u001b[39;00m\u001b[38;5;21;01m.\u001b[39;00m\u001b[38;5;21;01mlayers\u001b[39;00m \u001b[38;5;28;01mimport\u001b[39;00m Dense\n\u001b[1;32m      7\u001b[0m \u001b[38;5;66;03m# This uses some preprocessing from sklearn you may need to add install sklearn (which is one of the other most common libraries)\u001b[39;00m\n\u001b[1;32m      8\u001b[0m \u001b[38;5;66;03m# pip3 install -U scikit-learn\u001b[39;00m\n",
      "\u001b[0;31mModuleNotFoundError\u001b[0m: No module named 'keras'"
     ]
    }
   ],
   "source": [
    "import pandas as pd\n",
    "from copy import deepcopy\n",
    "from ucl_masterclass import *\n",
    "from keras.models import Sequential\n",
    "from keras.layers import Dense\n",
    "\n",
    "# This uses some preprocessing from sklearn you may need to add install sklearn (which is one of the other most common libraries)\n",
    "# pip3 install -U scikit-learn\n",
    "from sklearn.preprocessing import scale\n",
    "import tensorflow as tf\n",
    "from tensorflow import keras\n",
    "from time import time"
   ]
  },
  {
   "cell_type": "code",
   "execution_count": null,
   "metadata": {},
   "outputs": [],
   "source": [
    "\n",
    "# Load the training, validation, and testing data\n",
    "df_train = pd.read_csv(train_data_path)\n",
    "df_val = pd.read_csv(val_data_path)\n",
    "df_test = pd.read_csv(test_data_path)"
   ]
  },
  {
   "attachments": {},
   "cell_type": "markdown",
   "metadata": {},
   "source": [
    "### 3.2 Training Datasets \n",
    "\n",
    "The neural network is trained using a set of training events that have a label of 1 for signal and 0 for background. The dataset is split into *train*, *validation*, and *test*. Below, scaling is applied. A list of initial variables is provided, but more are available. Check the [introductory notebook](ATLAS_Hbb_Challenge.ipynb) for a full list of possible variables."
   ]
  },
  {
   "cell_type": "code",
   "execution_count": null,
   "metadata": {},
   "outputs": [],
   "source": [
    "# List of variables used in training\n",
    "variables = ['dRBB','mBB','MET','Mtop','pTV',]\n",
    "\n",
    "(x_train, y_train, w_train, \n",
    " dset_val, dset_test) = scale_prepare_data(df_train, df_val, df_test, variables, scaler='standard')\n"
   ]
  },
  {
   "cell_type": "markdown",
   "metadata": {},
   "source": [
    "### 3.3 Build a Simple Neural Network\n",
    "\n",
    "Some simple code to train a very basic and sub-optimal NN, included to demonstrate how to evalute the performance and plot the output in Section 3.4.\n"
   ]
  },
  {
   "cell_type": "code",
   "execution_count": null,
   "metadata": {},
   "outputs": [],
   "source": [
    "def classifier(variables):\n",
    "    \"\"\"\n",
    "    Creates a model for higgs to bb classification\n",
    "    \n",
    "    returns: Keras model\n",
    "    \"\"\"\n",
    "    num_variables = len(variables)\n",
    "\n",
    "    model = Sequential()\n",
    "    \n",
    "    # The input layer\n",
    "    model.add(Dense(units=num_variables,input_dim = num_variables,activation='relu'))\n",
    "    \n",
    "    # Add hidden layers here\n",
    "    # ======================\n",
    "\n",
    "    # Output layer\n",
    "    model.add(Dense(1,activation='sigmoid'))\n",
    "    model.compile(loss='binary_crossentropy', optimizer='SGD', metrics=['accuracy'])\n",
    "    return model"
   ]
  },
  {
   "cell_type": "code",
   "execution_count": null,
   "metadata": {},
   "outputs": [],
   "source": [
    "start = time()\n",
    "\n",
    "# Create and compile model\n",
    "\n",
    "# Set these parameters\n",
    "# ====================\n",
    "epochs = 12\n",
    "batchSize = 64\n",
    "# train\n",
    "model = classifier(variables)\n",
    "\n",
    "history = model.fit(x_train, y_train, sample_weight = w_train, \n",
    "        epochs=epochs, batch_size=batchSize,verbose = 1)\n",
    "\n",
    "print(\"model trained in \" + str(round(time()-start,2))+\"s\")"
   ]
  },
  {
   "cell_type": "markdown",
   "metadata": {},
   "source": [
    "### 3.4 Evaluating Neural Network\n",
    "\n",
    "The code below will test a neural network on unseen events. In this case a neural network trained on the odd data set is tested on the even data set. The neural network is used to classify the events and calculate the sensitivity using the neural network output shown in the histogram below.\n",
    "\n"
   ]
  },
  {
   "cell_type": "code",
   "execution_count": null,
   "metadata": {},
   "outputs": [],
   "source": [
    "df_test['decision_value'] = model.predict(dset_test[0])\n",
    "print(\"A sensitivity of\", round(sensitivity_NN(df_test)[0],2),'was achieved')\n",
    "nn_output_plot(df_test)"
   ]
  },
  {
   "attachments": {},
   "cell_type": "markdown",
   "metadata": {},
   "source": [
    "**This material was produced by hackingEducation**  \n",
    "<img src=\"images/logo-black.png\" width=\"50\" align = 'left'/>"
   ]
  }
 ],
 "metadata": {
  "kernelspec": {
   "display_name": "Python 3",
   "language": "python",
   "name": "python3"
  },
  "language_info": {
   "codemirror_mode": {
    "name": "ipython",
    "version": 3
   },
   "file_extension": ".py",
   "mimetype": "text/x-python",
   "name": "python",
   "nbconvert_exporter": "python",
   "pygments_lexer": "ipython3",
   "version": "3.10.9"
  },
  "vscode": {
   "interpreter": {
    "hash": "e4f39047f4e9cc9b3ad58404b253244e49dbf604894e0d0c8162e12c995ace6c"
   }
  }
 },
 "nbformat": 4,
 "nbformat_minor": 4
}
