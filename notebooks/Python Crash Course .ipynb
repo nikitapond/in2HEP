{
 "cells": [
  {
   "cell_type": "markdown",
   "metadata": {},
   "source": [
    "# A Very Quick Crash Course in Python\n",
    "\n",
    "## 1.1 Using Google as a programming tool\n",
    "\n",
    "It might surprise you to learn that one of the most useful tools a programmer has in his or her disposal is the Google search engine. Any programming language has a wealth of features and functions, and it's really difficult and many times impractical to try to remember them all. We can use Google help us find features in Python that will help us code.\n",
    "\n",
    "In other cases you might want to create a program, but you can't seem to figure out how to get around a specific problem. By Googling you might find other coders online who has published the exact code snippet you need. You might think that's _cheating_, but in programming there's a saying: _\"Don't reinvent the wheel.\"\n",
    "\n",
    "#### Python Documentation\n",
    "\n",
    "The Python website has its own dedicated page documenting the Python features. You can find the website here https://www.python.org/doc/. Note that there are different documentations for different versions of Python. In most cases the documentation will vary little between the different versions, but be careful of this in case you get some strange errors (you might be reading the wrong documentation!). \n",
    "\n",
    "Most programming languages utilise _libraries_. A library is a collection of other peoples code wrapped up in an easy to use package. Python libraries often have their own documentation pages, to help you understand how to use them. In this project we will be using a number of python libraries such as numpy, scikit-learn, and pandas. \n",
    "\n",
    "## 1.2 Jupyter Notebooks\n",
    "\n",
    "\n",
    "This page you're currently on is called a _Jupyter Notebook_. It's an _interactive Python_ environment, which allows us to experiment with and learn Python in an _interactive_ way. In general _Jupyter_ is what we'd call an _Integrated development environment_ (IDE), a program that enables us to write and run Python programs. There are many different IDEs for any single programming language, with different kinds of advantages for each.\n",
    "\n",
    "Jupyter is quite different from other IDEs because it allows us to both write text and code, in the same document. The basic building block of a Jupyter notebook is the _cell_. Code is written in _code cells_ and text is written in _markdown cells_. This, for example, is a text cell. If you try double clicking on the cell, the cell should change into _edit mode_, and you'll be able to edit this text! To go back to displaying the cell normally, press _SHIFT+ENTER_.\n",
    "\n",
    "We will be using Jupyter notebooks to introduce you to simple Python functions that you'll then experiment with in this notebook. Eventually we'll be moving on to another IDE called IDLE."
   ]
  },
  {
   "cell_type": "code",
   "execution_count": null,
   "metadata": {},
   "outputs": [],
   "source": []
  },
  {
   "cell_type": "markdown",
   "metadata": {},
   "source": [
    "## 1.3. The Print Function and 'Hello World'\n",
    "\n",
    "The first thing most people learn is the _print_ function. This function allows the user to tell the computer to \n",
    "display on the screen whatever is inside the print function. \n",
    "\n",
    "This can, for example, be a string of text, a number or even a _variable_ (more on variables later).\n",
    "\n",
    "#### Running a code cell\n",
    "\n",
    "To run a code cell, first select the cell. You can then either press SHIFT+ENTER to run the cell, or hit the 'Play' button at the top. You should see that the code in the cell produces some text below it. We call this the code's _output_."
   ]
  },
  {
   "cell_type": "code",
   "execution_count": null,
   "metadata": {},
   "outputs": [],
   "source": [
    "print(\"Hello world\") # printing hello world\n",
    "print(5) # printing the integer 5"
   ]
  },
  {
   "cell_type": "markdown",
   "metadata": {},
   "source": [
    "The bit of writing after the _#_ is known as a _comment_. A comment is a piece of non-code text that we put alongside code to help explain it. The purpose of a comment is to explain what the code does in simple English so that a programmer can go back and understand each line of code.\n",
    "\n",
    "Commenting is good programming practice!"
   ]
  },
  {
   "cell_type": "markdown",
   "metadata": {},
   "source": [
    "### _Exercises_\n",
    "\n",
    " - Try running the cell again, but change the text from \"Hello World\" to something else.\n",
    " - Try running it with the text changed to “5+3”, what do you get?\n",
    " - Try running it with the text changed to 5+3, without the quotation marks, what do you get?"
   ]
  },
  {
   "cell_type": "markdown",
   "metadata": {},
   "source": [
    "## 1.4 Variables\n",
    "Python allows us to store information in _variables_.  We can use the assignment operator (the _equal-to_ sign '=') to assign a value to a variable.\n",
    "\n",
    "There are three components to variable assignment.\n",
    " - First we need to decide on the name of our variable, like my_variable.\n",
    " - Second, we set the variable name equal to something using the _equal-to_ sign '='.\n",
    " - Third, we write the value that the variable should be equal to.\n",
    " \n",
    "Like this:\n",
    "\n",
    "     my_variable = 123\n",
    "    \n",
    "We can also store strings in a variable:\n",
    " \n",
    "     my_variable = \"Hello!\"\n",
    "\n",
    "Note that the variable name must be written as _one continuous set of characters_ without spaces. So, for example, _my variable_ would not be a valid name for a variable.\n",
    "\n",
    "The code below shows how easy it is to define variables, and then use them with the print statement."
   ]
  },
  {
   "cell_type": "code",
   "execution_count": null,
   "metadata": {},
   "outputs": [],
   "source": [
    "a_number = \"07453465767\"\n",
    "some_text = \"My number is: \"\n",
    "x = \"hello\"\n",
    "y = 6\n",
    "z  = 10\n",
    "\n",
    "print(y+z)\n",
    "print(some_text + str(a_number))\n"
   ]
  },
  {
   "cell_type": "markdown",
   "metadata": {},
   "source": [
    "A variable name can contain numbers, but cannot start with a number!"
   ]
  },
  {
   "cell_type": "code",
   "execution_count": null,
   "metadata": {},
   "outputs": [],
   "source": [
    "variable_2 = 5 # This is fine\n",
    "3rd_variable = 8 # This is not!"
   ]
  },
  {
   "cell_type": "markdown",
   "metadata": {},
   "source": [
    "#### A basic program \n",
    "\n",
    "Variables are quite useful, as they allow us to remember numbers (or other types of data, like _strings_) in terms of more memorable variable names. We can use these variables in our programs to compute things. Below is an example of a basic program that calculates how many minutes there are in a week."
   ]
  },
  {
   "cell_type": "code",
   "execution_count": null,
   "metadata": {},
   "outputs": [],
   "source": [
    "mins_in_hr = 60 # storing the number of minutes in an hour into a variable\n",
    "hrs_in_day = 24 # Storing hours in a day into a variable\n",
    "days_in_week = 7\n",
    "\n",
    "# calculate the minutes in the week\n",
    "\n",
    "mins_in_week = mins_in_hr*hrs_in_day*days_in_week\n",
    "\n",
    "print(\"There are \" + str(mins_in_week) + \" minutes in a week.\")"
   ]
  },
  {
   "cell_type": "markdown",
   "metadata": {},
   "source": [
    "This may look like a trivially easy program to write, and it has a lot of tedious writing to do a basic calculation, but the point of the code was to demonstrate how variables work. In later tasks you find this information useful. "
   ]
  },
  {
   "cell_type": "markdown",
   "metadata": {},
   "source": [
    "#### Storing user input into variables\n",
    "\n",
    "Most useful programs have some way of receiving information from its _user_ (the person using the program). This is what we call when a program is _interactive_. It simply means that a user can input some information into the computer, and the computer can answer something back in response to that input.\n",
    "\n",
    "An example of a way that you interact with your computer is the mouse you're probably using to scroll through this document right now. When you move your mouse, it sends messages to the computer telling the cursor on the screen to move. Another examples are the contacts in your phone: you enter a number and save it as a name (variable). Then each time you use that variable your phone uses the value of that variable, the phone number. All of these interactions are made possible by lines of code that someone has written!\n",
    "\n",
    "One way we ask for user input in Python is using the function _input_.\n",
    "\n",
    "See the code below and the comments to get a better idea of how it works. "
   ]
  },
  {
   "cell_type": "code",
   "execution_count": null,
   "metadata": {},
   "outputs": [],
   "source": [
    "my_name = input(\"Enter your name: \") # This function is used to store strings\n",
    "\n",
    "my_age = int(input(\"How old are you? \")) # This function is used to get a string, and turn it into a number  (integer)\n",
    "\n",
    "print (\"'my_age' stores the age in: \"+ str((type(my_age))) )#just verifiying that 'my_age' is stored as an integer \n",
    "# Line is stored as a string not sure how to change this - i have corrected this - or maybe that was the point\n",
    "print(my_name + \" is \" + str(my_age) + \" years old.\") # Prints *your name* is *your age* old. "
   ]
  },
  {
   "cell_type": "markdown",
   "metadata": {},
   "source": [
    "### Exercise\n",
    "\n",
    " - Write a simple calculator, that will add together three numbers that the user inputs."
   ]
  },
  {
   "cell_type": "markdown",
   "metadata": {},
   "source": [
    "## 1.5 If and Else statements\n",
    "\n",
    "The _if_ statement allows us to make a program that reacts in different ways, under different conditions. Think of it as a way to make a program _responsive_ to a user's input.\n",
    "\n",
    "Look at the code below. The first thing it does is ask the user's age, and after that it uses that information to tell the user whether he/she is old enough to drive. By reading the comments try to understand how the code works. "
   ]
  },
  {
   "cell_type": "code",
   "execution_count": null,
   "metadata": {},
   "outputs": [],
   "source": [
    "### Are you old enough to drive? ###I \n",
    "\n",
    "# Ask for user input\n",
    "age = int(input(\"How many years old are you? \"))\n",
    "# define driving age in the UK by setting the variable driving_age_uk to 17\n",
    "driving_age_uk = 17 \n",
    "\n",
    "# This statement says if age is greater than or equal to driving_age_uk, execute the print statement\n",
    "if age >= driving_age_uk: \n",
    "    print (\"You can drive!\")\n",
    "# If the condition in the if statement is not met, the code prints something else. \n",
    "else: \n",
    "    # Code to be executed when the condition in the if statement is not met.\n",
    "    print (\"You're not old enough to drive.\") \n"
   ]
  },
  {
   "cell_type": "markdown",
   "metadata": {},
   "source": [
    "An _if_-statement is basically used to test the value of a variable. If the variable passes the test, then the code _inside_ the _if_-statement is run by the computer. Here's an example of a simple test we can do with an _if_-statement."
   ]
  },
  {
   "cell_type": "code",
   "execution_count": null,
   "metadata": {},
   "outputs": [],
   "source": [
    "my_number = float(input(\"What is your number? \")) \n",
    "\n",
    "if my_number < 20:\n",
    "    print(\"The number is less than 20.\")\n",
    "    \n",
    "if my_number > 5:\n",
    "    print(\"The number is larger than 5.\")\n",
    "    \n",
    "if my_number == 10:\n",
    "    print(\"The number is equal to 10.\")\n",
    "else:\n",
    "    print(\"The number is not equal to 10.\")"
   ]
  },
  {
   "cell_type": "markdown",
   "metadata": {},
   "source": [
    "We can also use the keyword 'elif', which stands for \"else if\". This statement comes after an if statement, and will only run if the first if statement is false. An example is shown below"
   ]
  },
  {
   "cell_type": "code",
   "execution_count": null,
   "metadata": {},
   "outputs": [],
   "source": [
    "\n",
    "age = int(input(\"How many years old are you? \"))\n",
    "\n",
    "if(age < 2):\n",
    "    print(\"You are a baby!\")\n",
    "elif(age < 13):\n",
    "    print(\"You are a child!\")\n",
    "elif(age < 18):\n",
    "    print(\"You are a teenager!\")\n",
    "elif(age < 50):\n",
    "    print(\"You are an adult!\")\n",
    "else:\n",
    "    print(\"You are old :(\")\n"
   ]
  },
  {
   "cell_type": "markdown",
   "metadata": {},
   "source": [
    "When we run this code, the user is asked for their age. We first check if their age is below 2. If so, we print that they are a baby, and the if-elif-else statement is complete. If they are below 2, we go to the next 'elif' statement, and check if it is true. We keep doing this until we reach the else statement.\n",
    "\n",
    "### Exercises\n",
    "- In the UK, you pay tax on the money you earn. If you earn less than £12,570 a year, you pay no tax. If you earn between £12,571 and £50,270, you pay the basic rate of 20%. If you earn between 50,271 and 150,000, you pay higher rate of 40%. If you earn over 150,000, you pay the additional rate of 45%. Write a simple program that asks the user their yearly income, and prints the highest rate of tax the user will pay. Do this using if, elif, and else statements.\n",
    "\n",
    "- The UK uses a progressive tax structure. That means you only pay a given tax rate on income within a tax bracket. For example, if you earn £35,000 a year, you would pay 0% tax for the first £12,570, and then 20% tax on the remaining £22,430 (£35,000 - £12,570), for a total tax bill of £4486. Write a program that asks for the users yearly income, and calculates the total amount of tax they will pay."
   ]
  },
  {
   "cell_type": "code",
   "execution_count": null,
   "metadata": {},
   "outputs": [],
   "source": []
  },
  {
   "cell_type": "markdown",
   "metadata": {
    "nbpresent": {
     "id": "b0aa1eff-c0c6-4c18-8954-78c095f00ecc"
    }
   },
   "source": [
    "# 2. Data Structures and Functions\n",
    "\n",
    "## 2.1  _For_ loops\n",
    "\n",
    "The next thing we will look at is the _for loop_. Loops are really important in programming. Often in programming we find ourselves in a situation where we have to repeat the same code several times on some number or set of data. Loops allow us to accomplish this in fewer lines of code, by _repeating_ code until the operation is complete.\n",
    "To write a for loop, we write an initial line that starts the for loop\n",
    "```python\n",
    "for n in range(1,10):\n",
    "```\n",
    "We start with 'for', which declares we want a for loop. Then, we give a variable name which will store where in the loop we are. We then use the 'in' keyword, and tell the loop to give values of 'n' between 1, and 9 (excludes 10). To write code inside the for loop, we must *indent*. To indent, we can press the 'tab' key on your keyboard. Alternatively, you can hit 'space' 4 times. All code that we wish to include in the for loop, must be indented. Any code not indented will not be a part of the loop\n",
    "\n",
    "Look at the code below, what do you think it does? Run it and see if you can figure it out."
   ]
  },
  {
   "cell_type": "code",
   "execution_count": null,
   "metadata": {},
   "outputs": [],
   "source": [
    "for n in range(1,10): \n",
    "    # Sets up a loop that runs the program for n equals 1,\n",
    "    # and ends at but does not include 10.\n",
    "    \n",
    "    # Prints the statement \"the number is\" and then the\n",
    "    # value of 3*n for n going from 1 to 9.\n",
    "    print(\"The number is \" + str(3*n))\n",
    "print(\"This print is not in the loop\")"
   ]
  },
  {
   "cell_type": "markdown",
   "metadata": {},
   "source": [
    "#### Skipping a loop using _continue_\n",
    "\n",
    "You can skip one run of the loop using the keyword _continue_."
   ]
  },
  {
   "cell_type": "code",
   "execution_count": null,
   "metadata": {},
   "outputs": [],
   "source": [
    "nums = [1, 2, 4, 5, 6, 7, 8, 9, 10, 11, 12, 13, 14, 15, 16]\n",
    "\n",
    "for n in nums:\n",
    "    if n == 10:\n",
    "        continue\n",
    "        \n",
    "    print(n)"
   ]
  },
  {
   "cell_type": "markdown",
   "metadata": {},
   "source": [
    "#### Exiting a loop using _break_\n",
    "\n",
    "You can exit a loop completely using the keyword _break_."
   ]
  },
  {
   "cell_type": "code",
   "execution_count": null,
   "metadata": {},
   "outputs": [],
   "source": [
    "for i in range(15):\n",
    "    print(i)\n",
    "    if i == 11:\n",
    "        break"
   ]
  },
  {
   "cell_type": "markdown",
   "metadata": {},
   "source": [
    "### Exercises with _for_-loops"
   ]
  },
  {
   "cell_type": "markdown",
   "metadata": {},
   "source": [
    "- Write a script that prints the numbers from 50 to 100."
   ]
  },
  {
   "cell_type": "markdown",
   "metadata": {},
   "source": [
    "- Write a script that prints the 2-times table. "
   ]
  },
  {
   "cell_type": "code",
   "execution_count": null,
   "metadata": {},
   "outputs": [],
   "source": []
  },
  {
   "cell_type": "markdown",
   "metadata": {},
   "source": [
    "## 2.2 _While_ loops\n",
    "\n",
    "Another type of loop that we can use in Python is the _while loop_.\n",
    "\n",
    "The while loop repeats its code as long as the expression after the _while_ command evaluates to _True_. In this way it's very similar to an _if_-statement. You can think of it as a mix between an _if-statement_ and a _for-loop_.\n",
    "\n",
    "The previous explanation might be a bit complicated to follow, but if you look at the code below you can see that it's quite intuitive."
   ]
  },
  {
   "cell_type": "code",
   "execution_count": null,
   "metadata": {},
   "outputs": [],
   "source": [
    "n = 0 # Initialising n\n",
    "\n",
    "# Starting the loop with condition that n must be less than 10\n",
    "while n < 10: \n",
    "    n += 1 # redefines n as n+1 \n",
    "    print(n) # print the new value of n"
   ]
  },
  {
   "cell_type": "markdown",
   "metadata": {},
   "source": [
    "Both _continue_ and _break_ works with _while_ as well."
   ]
  },
  {
   "cell_type": "markdown",
   "metadata": {},
   "source": [
    "### Creating _infinite_ loops\n",
    "\n",
    "__WARNING__ the next cell will start an infinite loop. You will notice a `*` to the left of the cell which idicates that the program is still running. To stop the loop, press the stop or refresh buttons in the control at the top of the page"
   ]
  },
  {
   "cell_type": "code",
   "execution_count": null,
   "metadata": {},
   "outputs": [],
   "source": [
    "n = 2\n",
    "while True:\n",
    "    print(n)\n",
    "    # Code inside this statement will run forever!\n",
    "    # Note: If you try running this code cell it will cause an error\n",
    "    # this is because we actually need to have some code inside here for it\n",
    "    # to work."
   ]
  },
  {
   "cell_type": "markdown",
   "metadata": {},
   "source": [
    "In _IDLE_, if you run a program with and infinite loop, you can quit it using CTRL+C."
   ]
  },
  {
   "cell_type": "markdown",
   "metadata": {},
   "source": [
    "### Exercises with _while_-loops"
   ]
  },
  {
   "cell_type": "markdown",
   "metadata": {},
   "source": [
    "-  Write code that asks the user to enter the word _\"hello\"_, and will keep asking the user to do so, until the word is inputted."
   ]
  },
  {
   "cell_type": "code",
   "execution_count": null,
   "metadata": {},
   "outputs": [],
   "source": []
  },
  {
   "cell_type": "markdown",
   "metadata": {},
   "source": [
    "## 2.3 Commenting\n",
    "\n",
    "Large programs can get very complicated very quickly, and often code by itself can be quite daunting to read and hard to understand. Can you understand what the following code snippet does, without running it?"
   ]
  },
  {
   "cell_type": "code",
   "execution_count": null,
   "metadata": {},
   "outputs": [],
   "source": [
    "a = 1 #variable \n",
    "b = 1\n",
    "c = 0\n",
    "\n",
    "print(a)\n",
    "\n",
    "for i in range(9):\n",
    "    c = a + b\n",
    "    a = b\n",
    "    b = c\n",
    "    print(a)"
   ]
  },
  {
   "cell_type": "markdown",
   "metadata": {},
   "source": [
    "If you run it you'll see that it prints out the first ten numbers in the Fibonacci series. Now you might've figured out what the code did just by looking at it in this case, but for more complicated codes it might be practically impossible.\n",
    "\n",
    "Besides writing clear and structured code, the way programmers ensure that both they and others will understand their code in the future is by writing _comments_. These are text snippets written inside your code that help to annotate and explain what your program is doing. Here's an example of the previous code with some comments"
   ]
  },
  {
   "cell_type": "code",
   "execution_count": null,
   "metadata": {},
   "outputs": [],
   "source": [
    "# This program will calculate the first 10 numbers of the Fibonacci sequence.\n",
    "\n",
    "# Each number in the Fibonacci sequence is the sum of the two previous numbers. We have three\n",
    "# variables that will store three consecutive numbers in the series, with which we'll generate\n",
    "# the series.\n",
    "a = 1 \n",
    "b = 1\n",
    "c = 0\n",
    "\n",
    "# Print the first number of the series.\n",
    "print(a)\n",
    "\n",
    "# Print the next ten\n",
    "for i in range(9):\n",
    "    c = a + b # Calculate the next number in the series by adding the previous two.\n",
    "    a = b # Shift the old values to make way for the new value.\n",
    "    b = c\n",
    "    print(a) \n",
    "    "
   ]
  },
  {
   "cell_type": "markdown",
   "metadata": {},
   "source": [
    "## 2.4 Boolean expressions"
   ]
  },
  {
   "cell_type": "markdown",
   "metadata": {},
   "source": [
    "In programming we have to be able to say whether's something _True_ or _False_. For example, if a user logs in into a website, we might write some code that checks whether the password is correct or not. If the password is correct, the program should return _True_, otherwise it should return _False_.\n",
    "\n",
    "_True_ and _False_ are called **boolean values**, and expressions that evaluate into a _True_ or a _False_, are called **boolean expressions**. We saw some of them in the previous session."
   ]
  },
  {
   "cell_type": "code",
   "execution_count": null,
   "metadata": {},
   "outputs": [],
   "source": [
    "print(1 > 1) # 1 is never bigger than 1\n",
    "print(1 >= 2) # but 1 is bigger than or equal to 1\n",
    "\n",
    "print(2 < 3) # 2 is less than 3\n",
    "\n",
    "print(1 == 2) # 1 is not equal to 2\n",
    "print(3 != 4) # 3 is not equal to 4"
   ]
  },
  {
   "cell_type": "markdown",
   "metadata": {},
   "source": [
    "We can store these boolean values in variables"
   ]
  },
  {
   "cell_type": "code",
   "execution_count": null,
   "metadata": {},
   "outputs": [],
   "source": [
    "a = True\n",
    "b = False\n",
    "c = 2 < 3\n",
    "d = 1 == 1\n",
    "\n",
    "print(a)\n",
    "print(b)\n",
    "print(c)\n",
    "print(d)"
   ]
  },
  {
   "cell_type": "markdown",
   "metadata": {},
   "source": [
    "Boolean values and expressions are mostly used within _if_-statements. If we use a _True_ in an _if_-statement, it will always run!"
   ]
  },
  {
   "cell_type": "code",
   "execution_count": null,
   "metadata": {},
   "outputs": [],
   "source": [
    "if True:\n",
    "    print(\"This will always run :)\")\n",
    "    \n",
    "if False:\n",
    "    print(\"This will never run :(\")"
   ]
  },
  {
   "cell_type": "markdown",
   "metadata": {},
   "source": [
    "### Boolean operators\n",
    "\n",
    "Just like we have +, -, * and / for numbers, we have operators that work on boolean values. There are main operators that we need to know:\n",
    "\n",
    "- The and-operator **_and_**\n",
    "- The or-operator **_or_**\n",
    "- The not-operator **_not_**"
   ]
  },
  {
   "cell_type": "code",
   "execution_count": null,
   "metadata": {},
   "outputs": [],
   "source": [
    "# \"and\" only returns True, if both the \n",
    "# value to the left and  right are also True.\n",
    "print(True and True)\n",
    "print(True and False)\n",
    "print(False and False)\n",
    "\n",
    "a = 5\n",
    "#The and statement allows us to check\n",
    "# two things in one if statement\n",
    "if a>0 and a<10: \n",
    "    print(a)"
   ]
  },
  {
   "cell_type": "code",
   "execution_count": null,
   "metadata": {},
   "outputs": [],
   "source": [
    "# \"or\" returns True, if either the value \n",
    "# to the left and right are True.\n",
    "print(True or True)\n",
    "print(True or False)\n",
    "print(False or False)\n",
    "\n",
    "a = 15\n",
    "\n",
    "if a <0 or a>10:\n",
    "    print(\"a is not negative and is greater than 10\")"
   ]
  },
  {
   "cell_type": "code",
   "execution_count": null,
   "metadata": {},
   "outputs": [],
   "source": [
    "# \"not\" returns True, if the value after it is False, and vice versa.\n",
    "print(not True)\n",
    "print(not False)\n",
    "\n",
    "a = 0\n",
    "\n",
    "if a<5 and not a==0:\n",
    "    print(a)"
   ]
  },
  {
   "cell_type": "markdown",
   "metadata": {},
   "source": [
    "### Exercises with boolean expressions"
   ]
  },
  {
   "cell_type": "markdown",
   "metadata": {},
   "source": [
    "- Without using programming, try to figure out what the following boolean expression evaluates to\n",
    "\n",
    "        not (True and (False or True)) or (1 > 2)\n",
    "        \n",
    "    After you've done that, type it into Python and see if you were right!"
   ]
  },
  {
   "cell_type": "markdown",
   "metadata": {
    "nbpresent": {
     "id": "6c1f07ed-3e18-4231-bab8-d54c44fc98a8"
    }
   },
   "source": [
    "## 2.5 Lists\n",
    "\n",
    "Just like in ordinary life, we use _lists_ in programming to store sequences of information of some sort. You'll find that in programming lists are an incredibly important tool. So far, when we've wanted to store some information, like a string or a number, we had a to put it inside a _variable_ like this\n",
    "\n",
    "    mynumber = 1234\n",
    "    \n",
    "But let's say we need to store a thousand numbers, would we have to create a thousand variables? In Python we make our lives much easier by storing all of these in a _single_ list. Here's an example of a list storing a bunch of numbers\n",
    "\n",
    "In Python, a _list_ is what we'd call a **_Data Structure_**."
   ]
  },
  {
   "cell_type": "markdown",
   "metadata": {
    "nbpresent": {
     "id": "3cc14fc1-dc04-4e3b-9dbe-b9bd82a32f68"
    }
   },
   "source": [
    "### Properties of lists\n",
    "\n",
    " - Stores a sequence of data, called _\"list elements\"_.\n",
    " - The data is _ordered_.\n",
    " - You can add and remove list elements.\n",
    " - You can access specific elements in the list."
   ]
  },
  {
   "cell_type": "markdown",
   "metadata": {
    "nbpresent": {
     "id": "31866aa2-52b9-4f62-93c8-49d94c281907"
    }
   },
   "source": [
    "### Example of a list"
   ]
  },
  {
   "cell_type": "code",
   "execution_count": null,
   "metadata": {
    "nbpresent": {
     "id": "fc918a6c-e221-4c33-a170-113037647294"
    }
   },
   "outputs": [],
   "source": [
    "mylist = [65, 82, 75, 25, 54, 6857]\n",
    "\n",
    "print(mylist)"
   ]
  },
  {
   "cell_type": "markdown",
   "metadata": {
    "nbpresent": {
     "id": "c1ce2dd5-7d3b-42ca-bb05-578985f1a734"
    }
   },
   "source": [
    "### Mixing numbers and strings in a list"
   ]
  },
  {
   "cell_type": "code",
   "execution_count": null,
   "metadata": {
    "nbpresent": {
     "id": "0c85891d-68d9-464b-b2ec-c2212cbd1069"
    }
   },
   "outputs": [],
   "source": [
    "mylist = [65, 82, 75, \"Some text\", 54, \"Some more text\"]\n",
    "\n",
    "print(mylist)"
   ]
  },
  {
   "cell_type": "markdown",
   "metadata": {},
   "source": [
    "### Mixing numbers, strings _and lists_ in a list"
   ]
  },
  {
   "cell_type": "code",
   "execution_count": null,
   "metadata": {},
   "outputs": [],
   "source": [
    "mylist1 = [\"five\", \"six\", \"seven\", \"eight\"]\n",
    "mylist2 = [1, 2, 3, 4, mylist1]\n",
    "\n",
    "print(mylist2)"
   ]
  },
  {
   "cell_type": "markdown",
   "metadata": {
    "nbpresent": {
     "id": "62b7a1ed-5b73-4850-b899-526dbc90faf9"
    }
   },
   "source": [
    "### Adding lists using the \"+\"-operator"
   ]
  },
  {
   "cell_type": "code",
   "execution_count": null,
   "metadata": {
    "nbpresent": {
     "id": "01cbd2fe-0730-43ac-993b-32dbade98c41"
    }
   },
   "outputs": [],
   "source": [
    "combined_list = [1, 2, 3, 4] + [5, 6, 7, 8]\n",
    "print(combined_list)"
   ]
  },
  {
   "cell_type": "markdown",
   "metadata": {
    "nbpresent": {
     "id": "140dbf82-cf8d-46bb-9368-6637c7c53652"
    }
   },
   "source": [
    "### Adding elements to a list"
   ]
  },
  {
   "cell_type": "markdown",
   "metadata": {
    "nbpresent": {
     "id": "971b81f3-499e-428d-8d5a-9f4f700467a1"
    }
   },
   "source": [
    "#### Terminology: _functions_, _methods_ and _arguments_\n",
    "\n",
    "We're going to talk about **functions** in a later session, but for now, see them as statements in Python that lets us do things. An example of a function is _print_.\n",
    "\n",
    "For some variables, we can change their properties using something called **_methods_**, which are basically _functions_ tacked on at the end of variables. Statements like these have the form\n",
    "\n",
    "    my_variable.some_method(argument1, argument2, ...)\n",
    "\n",
    "The values in the parentheses are called **_argument_**, and they're used by the method to change the variable.\n",
    "    \n",
    "An example of a statement of this form is when you want to add an element to a list."
   ]
  },
  {
   "cell_type": "markdown",
   "metadata": {
    "nbpresent": {
     "id": "feb9f668-d069-467f-a2b7-5ed1843a6b22"
    }
   },
   "source": [
    "#### The _list.append_ method\n",
    "\n",
    "When we want to add an element to a list, we use the method _append_. The argument that _append_ takes is the new element we want to add."
   ]
  },
  {
   "cell_type": "code",
   "execution_count": null,
   "metadata": {
    "nbpresent": {
     "id": "a2d699d9-43a9-4734-89d4-321b6aae7d93"
    }
   },
   "outputs": [],
   "source": [
    "my_list = [] # Create an empty list\n",
    "\n",
    "my_list.append(\"my\")\n",
    "my_list.append(\"favourite\")\n",
    "my_list.append(\"number\")\n",
    "my_list.append(\"is\")\n",
    "my_list.append(7)\n",
    "\n",
    "print(my_list)"
   ]
  },
  {
   "cell_type": "markdown",
   "metadata": {
    "nbpresent": {
     "id": "5037fea3-0068-4a53-b784-dc857b8ac0d0"
    }
   },
   "source": [
    "### Removing elements from a list"
   ]
  },
  {
   "cell_type": "markdown",
   "metadata": {
    "nbpresent": {
     "id": "a9a3dd64-7930-4d51-bda6-983c05fe611b"
    }
   },
   "source": [
    "#### The _list.remove_ method\n",
    "\n",
    "To remove lists we use the _remove_ method. The argument for _remove_ is the value that you want to remove."
   ]
  },
  {
   "cell_type": "code",
   "execution_count": null,
   "metadata": {
    "nbpresent": {
     "id": "ae0d92a3-7ba7-4a2e-bfd2-a15874bb3ddd"
    }
   },
   "outputs": [],
   "source": [
    "my_list = []\n",
    "\n",
    "my_list.append(1)\n",
    "my_list.append(2)\n",
    "my_list.append(3)\n",
    "my_list.append(3)\n",
    "my_list.append(4)\n",
    "my_list.append([5, 6, 7, 8])\n",
    "my_list.append(9)\n",
    "my_list.append(10)\n",
    "\n",
    "print(my_list)"
   ]
  },
  {
   "cell_type": "code",
   "execution_count": null,
   "metadata": {
    "nbpresent": {
     "id": "76c800df-22c6-44fb-a4ba-cdc28dd53861"
    }
   },
   "outputs": [],
   "source": [
    "my_list.remove(3)\n",
    "my_list.remove([5,6,7,8])\n",
    "\n",
    "print(my_list)"
   ]
  },
  {
   "cell_type": "markdown",
   "metadata": {},
   "source": [
    "### Getting the length of a list"
   ]
  },
  {
   "cell_type": "markdown",
   "metadata": {},
   "source": [
    "#### The _len_ function"
   ]
  },
  {
   "cell_type": "markdown",
   "metadata": {},
   "source": [
    "We can see how long a list is using the _len_ function."
   ]
  },
  {
   "cell_type": "code",
   "execution_count": null,
   "metadata": {},
   "outputs": [],
   "source": [
    "very_long_list = [3,1,4,1,5,9,2,6,5,3,5,8,9,\n",
    "                  7,9,3,2,3,8,4,6,2,6,4,3,3,\n",
    "                  8,3,2,7,9,5,0,2,8,8]\n",
    "length_of_list = len(very_long_list)\n",
    "\n",
    "print(length_of_list)"
   ]
  },
  {
   "cell_type": "markdown",
   "metadata": {},
   "source": [
    "### Accessing list elements"
   ]
  },
  {
   "cell_type": "markdown",
   "metadata": {},
   "source": [
    "#### List indexing"
   ]
  },
  {
   "cell_type": "markdown",
   "metadata": {},
   "source": [
    "We often want to access specific parts of a list. We do this using _list indexing_, where we extract an element from a list based on its position in the list.\n",
    "\n",
    "    a_list = [\"Julian Casablancas\", \"Fabrizio Moretti\", \"Nick Valensi\", \"Nikolai Fraiture\"]\n",
    "\n",
    "The first element in a list is in position 0, here it's \"Julian Casablancas\".\n",
    "\n",
    "    print(a_list[0]) # Will print \"Julian Casablancas\"\n",
    "  \n",
    "The second element in a list is in position 1, here it's \"Fabrizio Moretti\".\n",
    "\n",
    "    print(a_list[1]) # Will print \"Fabrizio Moretti\"\n",
    "    \n",
    "And so on.\n"
   ]
  },
  {
   "cell_type": "code",
   "execution_count": null,
   "metadata": {},
   "outputs": [],
   "source": [
    "my_list = [67, 23, 82, 12, 89, 347, 12]\n",
    "\n",
    "print(\"The first element in the list is \" + str(my_list[0]))\n",
    "print(\"The third element in the list is \" + str(my_list[2]))"
   ]
  },
  {
   "cell_type": "markdown",
   "metadata": {},
   "source": [
    "#### Fibonacci stored to list"
   ]
  },
  {
   "cell_type": "code",
   "execution_count": null,
   "metadata": {},
   "outputs": [],
   "source": [
    "# This program will calculate and store the first 10 numbers of the Fibonacci sequence.\n",
    "fib_numbs = []\n",
    "# Each number in the Fibonacci sequence is the sum of the two previous numbers. We have three\n",
    "# variables that will store three consecutive numbers in the series, with which we'll generate\n",
    "# the series.\n",
    "a = 1 \n",
    "b = 1\n",
    "c = 0\n",
    "# Add first number\n",
    "fib_numbs.append(a)\n",
    "# Print the next ten\n",
    "for i in range(9):\n",
    "    c = a + b # Calculate the next number in the series by adding the previous two.\n",
    "    a = b # Shift the old values to make way for the new value.\n",
    "    b = c\n",
    "    fib_numbs.append(a)\n",
    "\n",
    "    \n",
    "    \n",
    "print(\"The first Fibonacci number is \" + str(fib_numbs[0]))\n",
    "print(\"The second Fibonacci number is \" + str(fib_numbs[1]))\n",
    "print(\"The seventh Fibonacci number is \" + str(fib_numbs[6]))\n",
    "print(\"The tenth Fibonacci number is \" + str(fib_numbs[9]))\n"
   ]
  },
  {
   "cell_type": "markdown",
   "metadata": {},
   "source": [
    "#### Accessing the last element of a list"
   ]
  },
  {
   "cell_type": "markdown",
   "metadata": {},
   "source": [
    "How woud we access the last element in a list? We can do it in two different ways. We can use the _len_ function, which gives us the length of the list.\n",
    "\n",
    "    my_list[len(my_list) - 1] # Last element of the list\n",
    "\n",
    "We can also use _negative indexing_.\n",
    "\n",
    "    my_list[-1] # Last element of the list"
   ]
  },
  {
   "cell_type": "code",
   "execution_count": null,
   "metadata": {},
   "outputs": [],
   "source": [
    "# Use the len function to extract the last element in a list\n",
    "\n",
    "my_list = [67, 23, 82, 12, 89, 347, 12]\n",
    "\n",
    "# my_list[len(my_list) - 1]\n",
    "print(\"The last element in the list is \" + str(my_list[len(my_list) - 1]))"
   ]
  },
  {
   "cell_type": "code",
   "execution_count": null,
   "metadata": {},
   "outputs": [],
   "source": [
    "# Use the negative indexing to extract the last element in a list\n",
    "\n",
    "my_list = [67, 23, 82, 12, 89, 347, 12]\n",
    "\n",
    "# my_list[-1]\n",
    "print(\"The last element in the list is \" + str(my_list[-1]))"
   ]
  },
  {
   "cell_type": "markdown",
   "metadata": {},
   "source": [
    "#### Negative indexing"
   ]
  },
  {
   "cell_type": "markdown",
   "metadata": {},
   "source": [
    "We can use negative indexing to access elements from the other end of a list."
   ]
  },
  {
   "cell_type": "code",
   "execution_count": null,
   "metadata": {},
   "outputs": [],
   "source": [
    "my_list = [67, 23, 82, 12, 89, 347, 12]\n",
    "\n",
    "print(\"The second-to-last element in the list is \" + str(my_list[-2]))\n",
    "print(\"The third-to-last element in the list is \" + str(my_list[-3]))\n",
    "print(\"The fourth-to-last element in the list is \" + str(my_list[-4]))"
   ]
  },
  {
   "cell_type": "markdown",
   "metadata": {},
   "source": [
    "### List slicing"
   ]
  },
  {
   "cell_type": "markdown",
   "metadata": {},
   "source": [
    "Sometimes we want to extract _slices_ of lists, instead of just individual elements. List slicing can be a bit confusing, remember that the _nth_ element in a list is indexed by the number _n-1_. I.e. the first element in the list has index 0, and so on...\n",
    "\n",
    "List slicing looks like this:\n",
    "\n",
    "    my_list[first_index:last_index]\n",
    "    \n",
    "Which will give you a slice from *first_index* up to (but not including) *last_index*."
   ]
  },
  {
   "cell_type": "code",
   "execution_count": null,
   "metadata": {},
   "outputs": [],
   "source": [
    "my_list = [67, 23, 82, 12, 89, 347, 12]\n",
    "\n",
    "print(\"A list slice containing the 2nd up to the 5th index: \" + str(my_list[1:5]))\n",
    "# Note that the slice will not include 347, the element on the 5th index.\n",
    "\n",
    "print(\"A list slice containing the 5th up to the 7th index: \" + str(my_list[5:7]))\n",
    "# Note that there isn't an element with index 7, this instead gives \n",
    "# us a slice that goes to the end of the list.\n",
    "\n",
    "print(\"A list slice containing the -4th up to the -1st index: \" + str(my_list[-4:-1]))"
   ]
  },
  {
   "cell_type": "markdown",
   "metadata": {},
   "source": [
    "#### Simple way to slice to the end or from the beginning of a list"
   ]
  },
  {
   "cell_type": "code",
   "execution_count": null,
   "metadata": {},
   "outputs": [],
   "source": [
    "my_list = [67, 23, 82, 12, 89, 347, 12]\n",
    "\n",
    "print(my_list[:3])\n",
    "print(my_list[3:])\n",
    "print(my_list[:3] + my_list[3:])"
   ]
  },
  {
   "cell_type": "markdown",
   "metadata": {},
   "source": [
    "### String indexing and slicing"
   ]
  },
  {
   "cell_type": "markdown",
   "metadata": {},
   "source": [
    "The indexing and slicing of strings works in exactly the same way as for lists."
   ]
  },
  {
   "cell_type": "code",
   "execution_count": null,
   "metadata": {},
   "outputs": [],
   "source": [
    "my_string = \"I can manipulate this string in Python.\"\n",
    "\n",
    "print(\"The last character of the string is: \" + my_string[-1])\n",
    "\n",
    "print(\"The third word in the string is: \" + my_string[6:17])"
   ]
  },
  {
   "cell_type": "markdown",
   "metadata": {},
   "source": [
    "### Checking if a value is in a list\n",
    " \n",
    "To see if an element is in a list, we use the keyword _in_ along with an _if_-statement."
   ]
  },
  {
   "cell_type": "code",
   "execution_count": null,
   "metadata": {},
   "outputs": [],
   "source": [
    "club_members = [\"Mark\", \"Ishan\", \"Harjeet\", \n",
    "                \"Armando\", \"Laura\", \"Haruki\", \"Linus\"]\n",
    "\n",
    "if \"Mark\" in club_members:\n",
    "    print(\"Mark is a member!\")\n",
    "else:\n",
    "    print(\"Mark is not a member.\")\n",
    "    \n",
    "if \"Sarah\" in club_members:\n",
    "    print(\"Sarah is a member!\")\n",
    "else:\n",
    "    print(\"Sarah is not a member.\")"
   ]
  },
  {
   "cell_type": "markdown",
   "metadata": {},
   "source": [
    "#### Checking if a value is _not_ in a list"
   ]
  },
  {
   "cell_type": "code",
   "execution_count": null,
   "metadata": {},
   "outputs": [],
   "source": [
    "numbers = list(range(10)) \n",
    "print(numbers)\n",
    "if not 11 in numbers:\n",
    "    print(\"11 is not in the list!\")"
   ]
  },
  {
   "cell_type": "markdown",
   "metadata": {},
   "source": [
    "### List manipulation"
   ]
  },
  {
   "cell_type": "markdown",
   "metadata": {},
   "source": [
    "#### The _list.reverse_ method"
   ]
  },
  {
   "cell_type": "code",
   "execution_count": null,
   "metadata": {},
   "outputs": [],
   "source": [
    "my_list = [1, 2, 3, 4, 5, 6]\n",
    "print(my_list)\n",
    "my_list.reverse()\n",
    "print(my_list)"
   ]
  },
  {
   "cell_type": "markdown",
   "metadata": {},
   "source": [
    "#### The list.sort method"
   ]
  },
  {
   "cell_type": "code",
   "execution_count": null,
   "metadata": {},
   "outputs": [],
   "source": [
    "my_list = [3, 9, 1, 7, 0, 20]\n",
    "print(my_list)\n",
    "my_list.sort()\n",
    "print(my_list)"
   ]
  },
  {
   "cell_type": "markdown",
   "metadata": {},
   "source": [
    "### Using loops with lists"
   ]
  },
  {
   "cell_type": "markdown",
   "metadata": {},
   "source": [
    "#### Adding elements to lists using loops\n",
    "\n",
    "You'll often use loops to add elements to a list, or just for list-manipulation in general."
   ]
  },
  {
   "cell_type": "code",
   "execution_count": null,
   "metadata": {},
   "outputs": [],
   "source": [
    "# This code creates a list containing all multiples of 3 up until 30\n",
    "\n",
    "multiples_of_3 = []\n",
    "\n",
    "for i in range(1, 11):\n",
    "    multiples_of_3.append(i*3)\n",
    "    \n",
    "print(multiples_of_3)"
   ]
  },
  {
   "cell_type": "markdown",
   "metadata": {},
   "source": [
    "#### Looping _through_ lists\n",
    "\n",
    "Sometimes you want to be able to deal with each element in a list separately. Python makes it really easy for us to do that using a _for_-loop. Look at the code cell below.\n",
    "\n",
    "The way the code works is that the variable _word_ takes on the values in the list for each turn of the loop. The first time the code runs in the loop, _word_ is equal to _\"A\"_, the second time it's equal to _\"bunch\"_, and so on..."
   ]
  },
  {
   "cell_type": "code",
   "execution_count": null,
   "metadata": {},
   "outputs": [],
   "source": [
    "word_list = [\"A\", \"bunch\", \"words\", \"in\", \"a\", \"list\", \".\"]\n",
    "\n",
    "for word in word_list:\n",
    "    # The variable \"word\" here takes on the value of each \n",
    "    # element in the list in turn.\n",
    "    print(word) "
   ]
  },
  {
   "cell_type": "markdown",
   "metadata": {},
   "source": [
    "### Exercises with lists"
   ]
  },
  {
   "cell_type": "markdown",
   "metadata": {},
   "source": [
    "- The following code prints a list slice:\n",
    "\n",
    "        my_list = [67, 23, 82, 12, 89, 347, 12]\n",
    "        print(my_list[3:6])\n",
    "        \n",
    "    We can also do list slices using negative indexing. Can you come up with a way to get the same list slice but using negative indices? I.e. code of the form\n",
    "        \n",
    "        my_list = [67, 23, 82, 12, 89, 347, 12]\n",
    "        print(my_list[-index1:-index2])"
   ]
  },
  {
   "cell_type": "markdown",
   "metadata": {},
   "source": [
    "- Loop through the following list using a _for_-loop:\n",
    "\n",
    "        words = [\"I\", \"love\", \"python\", \"so\", \"much.\"]\n",
    "        \n",
    "    Use the loop to add all the words into a single sentence (don't forget to include spaces inbetween the words!)."
   ]
  },
  {
   "cell_type": "markdown",
   "metadata": {},
   "source": [
    "-  Using a _for_-loop and a list, create a program that asks the user to enter 5 numbers. The program should then print out a list of those same numbers reversed, as well as the sum of the numbers. Here's an example of what the user should see when running the program:\n",
    "\n",
    "        Number?\n",
    "        >>> 4\n",
    "        Number?\n",
    "        >>> 1\n",
    "        Number?\n",
    "        >>> 5\n",
    "        Number?\n",
    "        >>> 2\n",
    "        Number?\n",
    "        >>> 8\n",
    "        \n",
    "        Reversed list:\n",
    "        [8, 2, 5, 1, 4]\n",
    "        \n",
    "        Sum of the numbers:\n",
    "        20\n",
    "        \n",
    "    To ask a user to enter a number, use:\n",
    "    \n",
    "        number = int(input(\"Enter a number:\"))\n",
    "        \n",
    "    Here, the _int_ function converts a _string_ into an integer."
   ]
  },
  {
   "cell_type": "code",
   "execution_count": null,
   "metadata": {},
   "outputs": [],
   "source": []
  },
  {
   "cell_type": "markdown",
   "metadata": {},
   "source": [
    "\n",
    "## 2.6 Functions\n",
    "In programing, a function is a way of containing a set of instructions in an easy to use package. This is useful if some lines of code are regularly re-used. \n",
    "\n",
    "A function can be split into 3 main components\n",
    "* Function declaration with parameters\n",
    "* Function body\n",
    "* Function return values\n",
    "\n",
    "We show these below"
   ]
  },
  {
   "cell_type": "code",
   "execution_count": null,
   "metadata": {},
   "outputs": [],
   "source": [
    "# Define the function, that takes 1 parameter 'x'\n",
    "def Square(x):\n",
    "    \n",
    "    # The function body contains all the code we\n",
    "    # wish to run in the function\n",
    "    x_sqr = x * x\n",
    "    \n",
    "    # We can then return a value that can be used\n",
    "    return x_sqr\n",
    "\n",
    "x = 5\n",
    "x_sqr = Square(x)\n",
    "print(f\"X={x}, X^2={x_sqr}\")\n"
   ]
  },
  {
   "cell_type": "markdown",
   "metadata": {},
   "source": [
    "### Exercise with functions\n",
    "- Now try it yourself, write a function called \"IsABiggerThanB\" that takes two parameters, 'a' and 'b'. The function should return True if $a>b$, and should return False otherwise. \n",
    "\n",
    "- Next, write a function that stores the first 'n' elements of the Fibonacci sequence to a list, and then returns the list to the user. You can use the code used to generate the fibonacci sequence from earlier."
   ]
  },
  {
   "cell_type": "code",
   "execution_count": null,
   "metadata": {},
   "outputs": [],
   "source": []
  },
  {
   "cell_type": "markdown",
   "metadata": {},
   "source": [
    "#### Recursion \n",
    "A function can call itself, in a process known as recursion. Below, we implement a function that calculates factorials using recursion.\n",
    "A numbers factorial, or 'n!', is the product of all numbers between 1 and n.\n",
    "For example, $3! = 3\\times 2 \\times 1$.\n"
   ]
  },
  {
   "cell_type": "code",
   "execution_count": null,
   "metadata": {},
   "outputs": [],
   "source": [
    "def Factorial(n):\n",
    "    if(n == 1):\n",
    "        return 1\n",
    "    else:\n",
    "        return n * Factorial(n-1)\n",
    "        \n",
    "\n",
    "print(\"3! is equal to \" + str(Factorial(3)))\n",
    "print(\"5! is equal to \" + str(Factorial(5)))\n",
    "print(\"10! is equal to \" + str(Factorial(10)))"
   ]
  },
  {
   "cell_type": "markdown",
   "metadata": {},
   "source": [
    "#### Doc-strings\n",
    "When we write a function, it is good practise to include a doc string. A doc string is a series of lines of text, placed at the beginning of a function. It gives an overview of what the function does, as well as listing the parameters the function takes, and what it returns. \n",
    "A doc string is important, as it means other people (or yourself!) can look at a function, and know how it works, as well as how to use it, without having to read the full function body.\n",
    "A doc string can be made by using _'''_ at the start and end of the doc string, as shown in the code cell below"
   ]
  },
  {
   "cell_type": "code",
   "execution_count": null,
   "metadata": {},
   "outputs": [],
   "source": [
    "def Factorial(n):\n",
    "    '''\n",
    "    Calculates and returns the value of n! to the user,\n",
    "    where n! = n*(n-1)*(n-2)* ... * 2 * 1\n",
    "    \n",
    "    Parameters:\n",
    "        n - Value to find the factorial of\n",
    "    \n",
    "    Returns:\n",
    "        the value of n!\n",
    "    \n",
    "    '''\n",
    "    if(n == 1):\n",
    "        return 1\n",
    "    else:\n",
    "        return n * Factorial(n-1)"
   ]
  },
  {
   "cell_type": "markdown",
   "metadata": {},
   "source": [
    "### Exercises with  functions\n",
    "\n",
    "Try these exercises for writing functions, some are quite hard. Make sure to include doc strings and comments!\n",
    "\n",
    "- We have looked at code which generates the first terms of the Fibonacci sequence. Now, try and write a function that recursively generates the first 'n' fibonacci numbers.\n",
    "        \n",
    "        The function should take two arguments 'sequence', a list which stores the current sequence, and 'n' the number of elements to generate.\n",
    "        To calculate the next index, we take the previous two numbers in the list and add them together.\n",
    "        We can then append this next number to the list.\n",
    "        Check if the list has the desired length, if yes we can return the list. If not, we can call the function again recursively. \n",
    "        To improve this function, add some checks. For example, if an empty list is provided, or a list with only 1 element, we can't generate the sequence. You can either print an error message to the user, or infer which value should go in the list (empty list, start with 0, 1. List with 1 element, add copy of same element).\n",
    "        \n",
    "- Write a function which calculates the lowest common multiple of two numbers\n",
    "\n",
    "- Write a function which checks if a word is a palindrome (reads the same if we reverse the order of the letters)"
   ]
  },
  {
   "cell_type": "markdown",
   "metadata": {},
   "source": [
    "## 2.7 Libraries\n",
    "\n",
    "A library is a collection of prepackaged code, ready to be used. In python, it is incredibly easy to install and use new libraries, which is one of Python's main strengths!\n",
    "\n",
    "We will not have to install any packages today, but it can be simply done in the command line by\n",
    "```\n",
    "pip install [library]\n",
    "```\n",
    "\n",
    "We can also run this command in a jupyter notebook by starting it with '!'"
   ]
  },
  {
   "cell_type": "code",
   "execution_count": null,
   "metadata": {},
   "outputs": [],
   "source": [
    "!pip install matplotlib"
   ]
  },
  {
   "cell_type": "markdown",
   "metadata": {},
   "source": [
    "Here, we have attempted to install matplotlib, a popular library for making plots. However, as it was already installed, no new installation is run.\n",
    "\n",
    "#### Plotting with Matplotlib\n"
   ]
  },
  {
   "cell_type": "code",
   "execution_count": null,
   "metadata": {},
   "outputs": [],
   "source": [
    "import matplotlib.pyplot as plt"
   ]
  },
  {
   "cell_type": "code",
   "execution_count": null,
   "metadata": {},
   "outputs": [],
   "source": [
    "x = [1,2,3,4,5,6] # Define our x variables\n",
    "y = [10, 7, 5, 4, 3.5, 3.25] # Define our y variables\n",
    "plt.plot(x,y) # Make the plot"
   ]
  },
  {
   "cell_type": "markdown",
   "metadata": {},
   "source": [
    "We can add axis labels, and a title simply"
   ]
  },
  {
   "cell_type": "code",
   "execution_count": null,
   "metadata": {},
   "outputs": [],
   "source": [
    "x = [1,2,3,4,5,6] # Define our x variables\n",
    "y = [10, 7, 5, 4, 3.5, 3.25] # Define our y variables\n",
    "plt.plot(x,y) # Make the plot\n",
    "\n",
    "plt.xlabel(\"x\")\n",
    "plt.ylabel(\"y\")\n",
    "\n",
    "plt.title(\"A simple plot\")"
   ]
  },
  {
   "cell_type": "markdown",
   "metadata": {},
   "source": [
    "We can plot different sets of data on the same plot, with different labels and a legend."
   ]
  },
  {
   "cell_type": "code",
   "execution_count": null,
   "metadata": {},
   "outputs": [],
   "source": [
    "x = [1,2,3,4,5,6] # Define our x variables\n",
    "y1 = [10, 7, 5, 4, 3.5, 3.25] # Define our y variables\n",
    "y2 = [3.25, 3.5, 4, 5, 7, 10] # Define our y variables\n",
    "plt.plot(x,y1, label=\"line 1\") # Make the plot\n",
    "plt.plot(x,y2, label=\"line 2\") # Make the plot\n",
    "\n",
    "plt.legend() # Make a legend\n",
    "\n",
    "plt.xlabel(\"x\")\n",
    "plt.ylabel(\"y\")\n",
    "plt.title(\"A simple plot\")"
   ]
  },
  {
   "cell_type": "markdown",
   "metadata": {},
   "source": [
    "We can also make histograms using plt.hist\n",
    "A histogram shows how often a certain value range (bin) occurs."
   ]
  },
  {
   "cell_type": "code",
   "execution_count": null,
   "metadata": {},
   "outputs": [],
   "source": [
    "ages = [18, 21, 19, 20, 20, 19, 23, 22, 21, 17, 18, \n",
    "        21, 19, 20, 22, 19, 18, 20, 21, 22, 21, 20]\n",
    "plt.hist(ages)"
   ]
  },
  {
   "cell_type": "markdown",
   "metadata": {},
   "source": [
    "We see that matplotlib hasn't chosen the 'bins' very well. We have ages between 17, and 23, so ideally we want to use 6 bins (17-18, 18-19, 19-20, 20-21, 21-22, 22-23). We can control this, shown below"
   ]
  },
  {
   "cell_type": "code",
   "execution_count": null,
   "metadata": {},
   "outputs": [],
   "source": [
    "ages = [18, 21, 19, 20, 20, 19, 23, 22, 21, 17, 18, \n",
    "        21, 19, 20, 22, 19, 18, 20, 21, 22, 21, 20]\n",
    "# Define number of bins as the difference between max and min age\n",
    "bins = max(ages) - min(ages)\n",
    "\n",
    "plt.hist(ages, bins=bins)\n",
    "\n",
    "plt.xlabel(\"Age (years)\")\n",
    "plt.ylabel(\"Number of Occurance\")\n",
    "plt.title(\"Histogram showing age\")"
   ]
  },
  {
   "cell_type": "markdown",
   "metadata": {},
   "source": [
    "#### NumPy\n",
    "\n",
    "NumPy is another very popular python library. It has a lot of functionality, but its main use is NumPy arrays. A numpy array is similar to a list. However, it has a fixed size (cannot add new elements, only change them) and can only store numbers. NumPy arrays are very powerful however, as they can be used to perform calculations much more quickly than with lists.\n",
    "\n",
    "We shall use NumPy in the next exercises, but you don't need to understand how the functions work."
   ]
  },
  {
   "cell_type": "code",
   "execution_count": null,
   "metadata": {},
   "outputs": [],
   "source": [
    "import numpy as np"
   ]
  },
  {
   "cell_type": "code",
   "execution_count": null,
   "metadata": {},
   "outputs": [],
   "source": [
    "# Generate 100 numbers between 0, and 2pi\n",
    "x = np.linspace(0, 2*3.14, 100)\n",
    "\n",
    "# Calculate what the sin(x) of each value in the x array is\n",
    "y = np.sin(x)\n",
    "\n",
    "# Plot!\n",
    "plt.plot(x,y)"
   ]
  },
  {
   "cell_type": "code",
   "execution_count": null,
   "metadata": {},
   "outputs": [],
   "source": []
  },
  {
   "cell_type": "markdown",
   "metadata": {},
   "source": [
    "### Matplotlib Exercises\n",
    "* Below, we use NumPy to generate some random heights of male, and female students. Can you plot a histogram showing the average heights of men and women?\n",
    "* There may be overlap between the two bits of data. Use plt.hist(data, alpha=0.5) to make the plots slightly transparent so we can see both."
   ]
  },
  {
   "cell_type": "code",
   "execution_count": null,
   "metadata": {},
   "outputs": [],
   "source": [
    "heights_men = np.random.normal(1.7, 0.1, size=(1000))\n",
    "heights_women = np.random.normal(1.6, 0.05, size=(1000))\n"
   ]
  },
  {
   "cell_type": "markdown",
   "metadata": {
    "nbpresent": {
     "id": "c93a61c5-87cd-417c-bbad-fd19f5dc7f95"
    }
   },
   "source": [
    "## 2.8 Dictionaries"
   ]
  },
  {
   "cell_type": "markdown",
   "metadata": {},
   "source": [
    "- _Dictionaries_ are another type of **data structure**.\n",
    "\n",
    "- Sometimes in other programming languages, dictionaries will be called _hash maps_.\n",
    "\n",
    "- Lists store information in a _sequence of ordered data_.\n",
    "\n",
    "- Dictionaries are _not_ ordered. Instead they work very similarly to, well, dictionaries!\n"
   ]
  },
  {
   "cell_type": "markdown",
   "metadata": {},
   "source": [
    "In a dictionary, to each word there's an associated description. The definiton of the word _python_ in the Oxford dictionary is:\n",
    "\n",
    "    programming (noun):\n",
    "    The process of writing computer programs.\n",
    "    \n",
    "In other words, for each word there's some associated data. Python dictionaries associate _values_ with _keys_. The previous Oxford definiton, along with some more definitions, can be programmed in the following way in Python"
   ]
  },
  {
   "cell_type": "code",
   "execution_count": null,
   "metadata": {},
   "outputs": [],
   "source": [
    "oxford_dictionary = {\"programming\" : \"The process of writing computer programs.\",\n",
    "                    \"python\" : \"A large heavy-bodied non-venomous snake occurring throughout the Old World tropics, killing prey by constriction and asphyxiation.\",\n",
    "                    \"raspberry\" : \"An edible soft fruit related to the blackberry, consisting of a cluster of reddish-pink drupelets.\"}"
   ]
  },
  {
   "cell_type": "markdown",
   "metadata": {},
   "source": [
    "Python _dictionaries_ are useful because we can access _values_ using their _keys_."
   ]
  },
  {
   "cell_type": "code",
   "execution_count": null,
   "metadata": {},
   "outputs": [],
   "source": [
    "print(\"The definition of the word 'programming' is: \" + oxford_dictionary[\"programming\"])"
   ]
  },
  {
   "cell_type": "markdown",
   "metadata": {
    "nbpresent": {
     "id": "0b3e8dce-851f-4fb4-b391-32cbe52043de"
    }
   },
   "source": [
    "### Adding _keys_ and _values_ to dictionaries"
   ]
  },
  {
   "cell_type": "markdown",
   "metadata": {
    "nbpresent": {
     "id": "bcb0b5f5-0f71-4f55-8a80-f769cc2f56ea"
    }
   },
   "source": [
    "**key-value pair:** Each piece of data in a dictionary is called a *key-value* pair.\n",
    "\n",
    "It's very simple to add new key-value pairs to a dictionary. An empty dictionary is created like this:"
   ]
  },
  {
   "cell_type": "code",
   "execution_count": null,
   "metadata": {},
   "outputs": [],
   "source": [
    "# Define new dict with 2 keys/values\n",
    "a_dict = {\"key1\" : \"value 1\",\n",
    "          \"key2\" : \"value 2\"}\n",
    "# Print the dictionary value at key 'key2'\n",
    "print(a_dict['key2'])"
   ]
  },
  {
   "cell_type": "code",
   "execution_count": null,
   "metadata": {
    "nbpresent": {
     "id": "b7ee659f-cc73-4187-a434-27145d57fa22"
    }
   },
   "outputs": [],
   "source": [
    "my_information = {}"
   ]
  },
  {
   "cell_type": "markdown",
   "metadata": {
    "nbpresent": {
     "id": "b59a391f-72d0-45a5-be1b-2c8bbd6da090"
    }
   },
   "source": [
    "Add keys and values:"
   ]
  },
  {
   "cell_type": "code",
   "execution_count": null,
   "metadata": {
    "nbpresent": {
     "id": "2339578d-fe78-4124-8866-2eea7f69aa09"
    }
   },
   "outputs": [],
   "source": [
    "my_information[\"first_name\"] = \"Homer\"\n",
    "my_information[\"last_name\"] = \"Simpson\"\n",
    "my_information[\"gender\"] = \"male\"\n",
    "my_information[\"IQ\"] = 105\n",
    "\n",
    "# display the information\n",
    "\n",
    "print(\"My name is \" + my_information[\"first_name\"] + \" \" \n",
    "      + my_information[\"last_name\"] + \" and I'm \" +\n",
    "      my_information[\"gender\"] + \" and I have an IQ of \" \n",
    "      + str(my_information[\"IQ\"]))"
   ]
  },
  {
   "cell_type": "markdown",
   "metadata": {},
   "source": [
    "#### Using different types of keys and values\n",
    "\n",
    "You can use any kind type of data as either a key or a value."
   ]
  },
  {
   "cell_type": "code",
   "execution_count": null,
   "metadata": {},
   "outputs": [],
   "source": [
    "my_dict = {}\n",
    "\n",
    "my_dict[123] = \"A number is the key to this value.\"\n",
    "\n",
    "my_dict[\"A string is the key to this value\"] = 123\n",
    "\n",
    "my_dict[\"This key points to a list\"] = [\"This\", \"is\", \"a\", \"list\"]"
   ]
  },
  {
   "cell_type": "markdown",
   "metadata": {},
   "source": [
    "### Checking if a _key_ is in a dictionary"
   ]
  },
  {
   "cell_type": "markdown",
   "metadata": {},
   "source": [
    "To check if a key is in a dictionary, we do the same things as we do with lists."
   ]
  },
  {
   "cell_type": "code",
   "execution_count": null,
   "metadata": {},
   "outputs": [],
   "source": [
    "member_ages = {\n",
    "    \"Mark\" : 12,\n",
    "    \"Ishan\" : 32,\n",
    "    \"Harjeet\" : 16,\n",
    "    \"Armando\" : 19,\n",
    "    \"Laura\" : 22,\n",
    "    \"Haruki\" : 10,\n",
    "    \"Linus\" : 25\n",
    "}\n",
    "\n",
    "if \"Harjeet\" in member_ages:\n",
    "    print(\"Harjeet is \" + str(member_ages[\"Harjeet\"]))\n",
    "else:\n",
    "    print(\"Harjeet is not in the registry.\")\n",
    "    \n",
    "if \"Lukas\" in member_ages:\n",
    "    print(\"Lukas is \" + str(member_ages[\"Lukas\"]))\n",
    "else:\n",
    "    print(\"Lukas is not in the registry.\")"
   ]
  },
  {
   "cell_type": "markdown",
   "metadata": {},
   "source": [
    "#### Check if a value is in a dictionary"
   ]
  },
  {
   "cell_type": "code",
   "execution_count": null,
   "metadata": {},
   "outputs": [],
   "source": [
    "if 16 in member_ages.values():\n",
    "    print(\"At least one member is 16\")\n",
    "\n",
    "if 45 in member_ages.values():\n",
    "    print(\"At least one member is 45\")\n",
    "else:\n",
    "    print(\"No member is 45\")"
   ]
  },
  {
   "cell_type": "markdown",
   "metadata": {},
   "source": [
    "### Looping through the keys in a dictionary"
   ]
  },
  {
   "cell_type": "markdown",
   "metadata": {},
   "source": [
    "We loop through the keys in the dictionary the same way we loop through lists."
   ]
  },
  {
   "cell_type": "code",
   "execution_count": null,
   "metadata": {},
   "outputs": [],
   "source": [
    "member_ages = {\n",
    "    \"Mark\" : 12,\n",
    "    \"Ishan\" : 32,\n",
    "    \"Harjeet\" : 16,\n",
    "    \"Armando\" : 19,\n",
    "    \"Laura\" : 22,\n",
    "    \"Haruki\" : 10,\n",
    "    \"Linus\" : 25\n",
    "}\n",
    "\n",
    "for name in member_ages:\n",
    "    print(name + \" is \" + str(member_ages[name]))"
   ]
  },
  {
   "cell_type": "markdown",
   "metadata": {},
   "source": [
    "### Exercises with dictionaries"
   ]
  },
  {
   "cell_type": "markdown",
   "metadata": {},
   "source": [
    " - Create a dictionary that contains some information about you. It should contain your first name, last name, age and which school you go to."
   ]
  },
  {
   "cell_type": "code",
   "execution_count": null,
   "metadata": {},
   "outputs": [],
   "source": []
  },
  {
   "cell_type": "markdown",
   "metadata": {},
   "source": [
    "- This problem is a bit harder! Create a program that let's you store the rankings of the members of your club in a dictionary, and then let's you print them all by entering a command _rankings_ (you don't have to print them in order). The program should only allow you to create new entries, if the user tries to enter a name that already exist, the program should say that that's not allowed. Example output of the program:\n",
    "        \n",
    "        Name of member (enter 'rankings' to see all rankings):\n",
    "        >>> Lukas\n",
    "\n",
    "        What is the rank of Lukas?\n",
    "        >>> 1\n",
    "\n",
    "        Name of member (enter 'rankings' to see all rankings):\n",
    "        >>> Ishan\n",
    "\n",
    "        What is the rank of Ishan?\n",
    "        >>> 2\n",
    "        \n",
    "        Name of member (enter 'rankings' to see all rankings):\n",
    "        >>> Lukas\n",
    "\n",
    "        Lukas is already in the registry!\n",
    "        \n",
    "        Name of member (enter 'rankings' to see all rankings):\n",
    "        >>> Laura\n",
    "        \n",
    "        What is the rank of Laura?\n",
    "        >>> 2\n",
    "        \n",
    "        Name of member (enter 'rankings' to see all rankings):\n",
    "        >>> rankings\n",
    "        \n",
    "        Rankings:\n",
    "        Lukas - 1\n",
    "        Ishan - 2\n",
    "        Laura - 2\n",
    "        \n",
    "    To complete this task you should use a _while_-loop.\n",
    "        \n"
   ]
  },
  {
   "cell_type": "markdown",
   "metadata": {},
   "source": [
    "# 3.0 Libraries\n",
    "One of the most powerful aspects of python is that there is a library for everything. What is a library? Its a collection of other peoples code that you can use for your purposes. Below, we shall discuss 3 very popular libraries used by datascientists daily.\n",
    "\n"
   ]
  },
  {
   "cell_type": "markdown",
   "metadata": {},
   "source": [
    "## 3.1 NumPy\n",
    "Numpy is a library designed for performing mathmatical calculations on arrays of numbers. It is designed to be fast, and vectorised. This means that instead of having to run a calculation on each number in an array, you can run the calculation on the full array at once. This is demonstrated below"
   ]
  },
  {
   "cell_type": "code",
   "execution_count": 1,
   "metadata": {},
   "outputs": [],
   "source": [
    "import numpy as np\n",
    "\n",
    "\n",
    "# Take a python list of numbers, and square every item in it\n",
    "python_list = [1, 2, 3, 4, 5]\n",
    "square_list = []\n",
    "for i in python_list:\n",
    "    square_list.append(i**2)\n",
    "\n",
    "# Convert the python list to a numpy array\n",
    "numpy_array = np.array(python_list)\n",
    "square_array = numpy_array**2"
   ]
  },
  {
   "cell_type": "markdown",
   "metadata": {},
   "source": [
    "In the above cell, we have used NumPy to square our values, doing it in a single line. In the above example, there isn't much difference in speed. But if you instead had to work on large amounts of data, for example a million numbers, the numpy approach turns out to be *much* faster"
   ]
  },
  {
   "cell_type": "code",
   "execution_count": 2,
   "metadata": {},
   "outputs": [
    {
     "name": "stdout",
     "output_type": "stream",
     "text": [
      "188 µs ± 2.03 µs per loop (mean ± std. dev. of 7 runs, 1,000 loops each)\n",
      "1.13 µs ± 40.5 ns per loop (mean ± std. dev. of 7 runs, 1,000,000 loops each)\n"
     ]
    }
   ],
   "source": [
    "# Do the square list in a single line, and time it\n",
    "%timeit [i**2 for i in range(1000)]\n",
    "\n",
    "# Do the square array in a single line, and time it\n",
    "%timeit np.arange(1000)**2"
   ]
  },
  {
   "cell_type": "markdown",
   "metadata": {},
   "source": [
    "We can see on average the numpy approach is much faster.\n",
    "\n",
    "Numpy also has many other useful functions, below we deomonstrate just a few."
   ]
  },
  {
   "cell_type": "code",
   "execution_count": 6,
   "metadata": {},
   "outputs": [
    {
     "name": "stdout",
     "output_type": "stream",
     "text": [
      "[ 0.   0.1  0.2  0.3  0.4  0.5  0.6  0.7  0.8  0.9  1.   1.1  1.2  1.3\n",
      "  1.4  1.5  1.6  1.7  1.8  1.9  2.   2.1  2.2  2.3  2.4  2.5  2.6  2.7\n",
      "  2.8  2.9  3.   3.1  3.2  3.3  3.4  3.5  3.6  3.7  3.8  3.9  4.   4.1\n",
      "  4.2  4.3  4.4  4.5  4.6  4.7  4.8  4.9  5.   5.1  5.2  5.3  5.4  5.5\n",
      "  5.6  5.7  5.8  5.9  6.   6.1  6.2  6.3  6.4  6.5  6.6  6.7  6.8  6.9\n",
      "  7.   7.1  7.2  7.3  7.4  7.5  7.6  7.7  7.8  7.9  8.   8.1  8.2  8.3\n",
      "  8.4  8.5  8.6  8.7  8.8  8.9  9.   9.1  9.2  9.3  9.4  9.5  9.6  9.7\n",
      "  9.8  9.9 10. ]\n"
     ]
    }
   ],
   "source": [
    "# Generate 101 numbers between 0 and 10, including both 0 and 10\n",
    "linspace = np.linspace(0, 10, 101)\n",
    "print(linspace)"
   ]
  },
  {
   "cell_type": "code",
   "execution_count": 8,
   "metadata": {},
   "outputs": [
    {
     "name": "stdout",
     "output_type": "stream",
     "text": [
      "[ 0  5 10 15 20 25 30 35 40 45 50 55 60 65 70 75 80 85 90 95]\n"
     ]
    }
   ],
   "source": [
    "# Start at 0, increment by 5, and stop before *100*\n",
    "arange = np.arange(0, 100, 5)\n",
    "# Note, this does *not* include 100\n",
    "print(arange)"
   ]
  },
  {
   "cell_type": "code",
   "execution_count": 9,
   "metadata": {},
   "outputs": [
    {
     "name": "stdout",
     "output_type": "stream",
     "text": [
      "[ 0.84147098  0.90929743  0.14112001 -0.7568025  -0.95892427]\n"
     ]
    }
   ],
   "source": [
    "# Some mathematical operations\n",
    "xvals = np.array([1, 2, 3, 4, 5])\n",
    "sin = np.sin(xvals) # Try cos, or tan, or exp, or log\n",
    "print(sin)"
   ]
  },
  {
   "cell_type": "markdown",
   "metadata": {},
   "source": [
    "## 3.2 Matplotlib\n",
    "\n",
    "Numbers are great, but pictures paint a thousand words, so ideally we want to be able to plot results. We do this below"
   ]
  },
  {
   "cell_type": "code",
   "execution_count": 10,
   "metadata": {},
   "outputs": [],
   "source": [
    "import matplotlib.pyplot as plt"
   ]
  },
  {
   "cell_type": "code",
   "execution_count": 11,
   "metadata": {},
   "outputs": [
    {
     "data": {
      "text/plain": [
       "[<matplotlib.lines.Line2D at 0x1253f0640>]"
      ]
     },
     "execution_count": 11,
     "metadata": {},
     "output_type": "execute_result"
    },
    {
     "data": {
      "image/png": "[encoded data removed]",
      "text/plain": [
       "<Figure size 640x480 with 1 Axes>"
      ]
     },
     "metadata": {},
     "output_type": "display_data"
    }
   ],
   "source": [
    "xvalues = np.linspace(0, 2*3.14, 100)\n",
    "sinx = np.sin(xvalues)\n",
    "\n",
    "plt.plot(xvalues, sinx)"
   ]
  },
  {
   "cell_type": "markdown",
   "metadata": {},
   "source": [
    "Above, we've plotted a very simply `y=sin(x)` plot. But at the moment, its very bare bones. Lets improve it"
   ]
  },
  {
   "cell_type": "code",
   "execution_count": 12,
   "metadata": {},
   "outputs": [
    {
     "data": {
      "text/plain": [
       "Text(0.5, 1.0, 'Sine and Cosine functions')"
      ]
     },
     "execution_count": 12,
     "metadata": {},
     "output_type": "execute_result"
    },
    {
     "data": {
      "image/png": "[encoded data removed]",
      "text/plain": [
       "<Figure size 640x480 with 1 Axes>"
      ]
     },
     "metadata": {},
     "output_type": "display_data"
    }
   ],
   "source": [
    "xvalues = np.linspace(0, 2*3.14, 100)\n",
    "sinx = np.sin(xvalues)\n",
    "cosx = np.cos(xvalues)\n",
    "\n",
    "plt.plot(xvalues, sinx, label=\"y=sin(x)\")\n",
    "plt.plot(xvalues, cosx, label=\"y=cos(x)\")\n",
    "\n",
    "plt.legend()\n",
    "plt.xlabel(\"x\")\n",
    "plt.ylabel(\"y\")\n",
    "plt.title(\"Sine and Cosine functions\")"
   ]
  },
  {
   "cell_type": "markdown",
   "metadata": {},
   "source": [
    "With just a few changes, we can make professional and scientific plots easily. Matplotlib *is* the main plotting library used by scientists around the world, with many ATLAS publications including plots using matplotlib."
   ]
  },
  {
   "cell_type": "markdown",
   "metadata": {},
   "source": [
    "## 3.3 Pandas\n",
    "\n",
    "The above two libraries are useful for performing mathematical operations, and dispalying results. In data science however, we often need to load and manipulate data. One library which is well suited for this is *Pandas*\n",
    "\n",
    "\n",
    "In this tutorial you will be introduced to using the Pandas Data Frame to read and manipulate data. By the end of this tutorial you should be able to:\n",
    "\n",
    "- Read in .csv data.\n",
    "- Select columns.\n",
    "- Locating elements based on a boolean condition.\n",
    "\n",
    "\n",
    "### Pandas Documentation\n",
    "\n",
    "Just like any other popular python library, pandas is widely used and well documented. This means there will be plenty of solutions to common bugs on Stack Overflow. If at any point you are unsure about syntax, google what you'd like to do and you're likely to find a solution. \n",
    "\n",
    "### Reading Data from .csv\n",
    "\n",
    "Pandas makes reading data from .csv (comma separated values) extremely easy. If you haven't seen a .csv file before don't worry, it is simply a set of values separated by a comma. Open the bikes.csv file in the data-v1 folder from desktop and see what it looks like. \n",
    "\n",
    "Let's now open the bikes.csv file in pandas. "
   ]
  },
  {
   "cell_type": "code",
   "execution_count": 14,
   "metadata": {},
   "outputs": [
    {
     "name": "stdout",
     "output_type": "stream",
     "text": [
      "--2024-07-18 09:07:29--  https://raw.githubusercontent.com/nikitapond/in2HEP/StudentWeek/data-v2/bikes.csv\n",
      "Resolving raw.githubusercontent.com (raw.githubusercontent.com)... 185.199.108.133, 185.199.110.133, 185.199.109.133, ...\n",
      "Connecting to raw.githubusercontent.com (raw.githubusercontent.com)|185.199.108.133|:443... connected.\n",
      "HTTP request sent, awaiting response... 200 OK\n",
      "Length: 13795 (13K) [text/plain]\n",
      "Saving to: ‘bikes.csv.1’\n",
      "\n",
      "bikes.csv.1         100%[===================>]  13.47K  --.-KB/s    in 0s      \n",
      "\n",
      "2024-07-18 09:07:29 (52.2 MB/s) - ‘bikes.csv.1’ saved [13795/13795]\n",
      "\n"
     ]
    }
   ],
   "source": [
    "import pandas as pd\n",
    "!wget https://raw.githubusercontent.com/nikitapond/in2HEP/StudentWeek/data-v2/bikes.csv\n"
   ]
  },
  {
   "cell_type": "code",
   "execution_count": 16,
   "metadata": {},
   "outputs": [
    {
     "data": {
      "text/html": [
       "<div>\n",
       "<style scoped>\n",
       "    .dataframe tbody tr th:only-of-type {\n",
       "        vertical-align: middle;\n",
       "    }\n",
       "\n",
       "    .dataframe tbody tr th {\n",
       "        vertical-align: top;\n",
       "    }\n",
       "\n",
       "    .dataframe thead th {\n",
       "        text-align: right;\n",
       "    }\n",
       "</style>\n",
       "<table border=\"1\" class=\"dataframe\">\n",
       "  <thead>\n",
       "    <tr style=\"text-align: right;\">\n",
       "      <th></th>\n",
       "      <th>Date</th>\n",
       "      <th>Berri 1</th>\n",
       "      <th>Brébeuf (données non disponibles)</th>\n",
       "      <th>Côte-Sainte-Catherine</th>\n",
       "      <th>Maisonneuve 1</th>\n",
       "      <th>Maisonneuve 2</th>\n",
       "      <th>du Parc</th>\n",
       "      <th>Pierre-Dupuy</th>\n",
       "      <th>Rachel1</th>\n",
       "      <th>St-Urbain (données non disponibles)</th>\n",
       "    </tr>\n",
       "  </thead>\n",
       "  <tbody>\n",
       "    <tr>\n",
       "      <th>0</th>\n",
       "      <td>2012-01-01</td>\n",
       "      <td>35</td>\n",
       "      <td>NaN</td>\n",
       "      <td>0</td>\n",
       "      <td>38</td>\n",
       "      <td>51</td>\n",
       "      <td>26</td>\n",
       "      <td>10</td>\n",
       "      <td>16</td>\n",
       "      <td>NaN</td>\n",
       "    </tr>\n",
       "    <tr>\n",
       "      <th>1</th>\n",
       "      <td>2012-01-02</td>\n",
       "      <td>83</td>\n",
       "      <td>NaN</td>\n",
       "      <td>1</td>\n",
       "      <td>68</td>\n",
       "      <td>153</td>\n",
       "      <td>53</td>\n",
       "      <td>6</td>\n",
       "      <td>43</td>\n",
       "      <td>NaN</td>\n",
       "    </tr>\n",
       "    <tr>\n",
       "      <th>2</th>\n",
       "      <td>2012-01-03</td>\n",
       "      <td>135</td>\n",
       "      <td>NaN</td>\n",
       "      <td>2</td>\n",
       "      <td>104</td>\n",
       "      <td>248</td>\n",
       "      <td>89</td>\n",
       "      <td>3</td>\n",
       "      <td>58</td>\n",
       "      <td>NaN</td>\n",
       "    </tr>\n",
       "    <tr>\n",
       "      <th>3</th>\n",
       "      <td>2012-01-04</td>\n",
       "      <td>144</td>\n",
       "      <td>NaN</td>\n",
       "      <td>1</td>\n",
       "      <td>116</td>\n",
       "      <td>318</td>\n",
       "      <td>111</td>\n",
       "      <td>8</td>\n",
       "      <td>61</td>\n",
       "      <td>NaN</td>\n",
       "    </tr>\n",
       "    <tr>\n",
       "      <th>4</th>\n",
       "      <td>2012-01-05</td>\n",
       "      <td>197</td>\n",
       "      <td>NaN</td>\n",
       "      <td>2</td>\n",
       "      <td>124</td>\n",
       "      <td>330</td>\n",
       "      <td>97</td>\n",
       "      <td>13</td>\n",
       "      <td>95</td>\n",
       "      <td>NaN</td>\n",
       "    </tr>\n",
       "    <tr>\n",
       "      <th>...</th>\n",
       "      <td>...</td>\n",
       "      <td>...</td>\n",
       "      <td>...</td>\n",
       "      <td>...</td>\n",
       "      <td>...</td>\n",
       "      <td>...</td>\n",
       "      <td>...</td>\n",
       "      <td>...</td>\n",
       "      <td>...</td>\n",
       "      <td>...</td>\n",
       "    </tr>\n",
       "    <tr>\n",
       "      <th>305</th>\n",
       "      <td>2012-11-01</td>\n",
       "      <td>2405</td>\n",
       "      <td>NaN</td>\n",
       "      <td>1208</td>\n",
       "      <td>1701</td>\n",
       "      <td>3082</td>\n",
       "      <td>2076</td>\n",
       "      <td>165</td>\n",
       "      <td>2461</td>\n",
       "      <td>NaN</td>\n",
       "    </tr>\n",
       "    <tr>\n",
       "      <th>306</th>\n",
       "      <td>2012-11-02</td>\n",
       "      <td>1582</td>\n",
       "      <td>NaN</td>\n",
       "      <td>737</td>\n",
       "      <td>1109</td>\n",
       "      <td>2277</td>\n",
       "      <td>1392</td>\n",
       "      <td>97</td>\n",
       "      <td>1888</td>\n",
       "      <td>NaN</td>\n",
       "    </tr>\n",
       "    <tr>\n",
       "      <th>307</th>\n",
       "      <td>2012-11-03</td>\n",
       "      <td>844</td>\n",
       "      <td>NaN</td>\n",
       "      <td>380</td>\n",
       "      <td>612</td>\n",
       "      <td>1137</td>\n",
       "      <td>713</td>\n",
       "      <td>105</td>\n",
       "      <td>1302</td>\n",
       "      <td>NaN</td>\n",
       "    </tr>\n",
       "    <tr>\n",
       "      <th>308</th>\n",
       "      <td>2012-11-04</td>\n",
       "      <td>966</td>\n",
       "      <td>NaN</td>\n",
       "      <td>446</td>\n",
       "      <td>710</td>\n",
       "      <td>1277</td>\n",
       "      <td>692</td>\n",
       "      <td>197</td>\n",
       "      <td>1374</td>\n",
       "      <td>NaN</td>\n",
       "    </tr>\n",
       "    <tr>\n",
       "      <th>309</th>\n",
       "      <td>2012-11-05</td>\n",
       "      <td>2247</td>\n",
       "      <td>NaN</td>\n",
       "      <td>1170</td>\n",
       "      <td>1705</td>\n",
       "      <td>3221</td>\n",
       "      <td>2143</td>\n",
       "      <td>179</td>\n",
       "      <td>2430</td>\n",
       "      <td>NaN</td>\n",
       "    </tr>\n",
       "  </tbody>\n",
       "</table>\n",
       "<p>310 rows × 10 columns</p>\n",
       "</div>"
      ],
      "text/plain": [
       "           Date  Berri 1  Brébeuf (données non disponibles)  \\\n",
       "0    2012-01-01       35                                NaN   \n",
       "1    2012-01-02       83                                NaN   \n",
       "2    2012-01-03      135                                NaN   \n",
       "3    2012-01-04      144                                NaN   \n",
       "4    2012-01-05      197                                NaN   \n",
       "..          ...      ...                                ...   \n",
       "305  2012-11-01     2405                                NaN   \n",
       "306  2012-11-02     1582                                NaN   \n",
       "307  2012-11-03      844                                NaN   \n",
       "308  2012-11-04      966                                NaN   \n",
       "309  2012-11-05     2247                                NaN   \n",
       "\n",
       "     Côte-Sainte-Catherine  Maisonneuve 1  Maisonneuve 2  du Parc  \\\n",
       "0                        0             38             51       26   \n",
       "1                        1             68            153       53   \n",
       "2                        2            104            248       89   \n",
       "3                        1            116            318      111   \n",
       "4                        2            124            330       97   \n",
       "..                     ...            ...            ...      ...   \n",
       "305                   1208           1701           3082     2076   \n",
       "306                    737           1109           2277     1392   \n",
       "307                    380            612           1137      713   \n",
       "308                    446            710           1277      692   \n",
       "309                   1170           1705           3221     2143   \n",
       "\n",
       "     Pierre-Dupuy  Rachel1  St-Urbain (données non disponibles)  \n",
       "0              10       16                                  NaN  \n",
       "1               6       43                                  NaN  \n",
       "2               3       58                                  NaN  \n",
       "3               8       61                                  NaN  \n",
       "4              13       95                                  NaN  \n",
       "..            ...      ...                                  ...  \n",
       "305           165     2461                                  NaN  \n",
       "306            97     1888                                  NaN  \n",
       "307           105     1302                                  NaN  \n",
       "308           197     1374                                  NaN  \n",
       "309           179     2430                                  NaN  \n",
       "\n",
       "[310 rows x 10 columns]"
      ]
     },
     "execution_count": 16,
     "metadata": {},
     "output_type": "execute_result"
    }
   ],
   "source": [
    "# Read from csv\n",
    "bike_df = pd.read_csv('bikes.csv')\n",
    "\n",
    "bike_df"
   ]
  },
  {
   "cell_type": "markdown",
   "metadata": {},
   "source": [
    "### Getting list of Columns\n",
    "\n",
    "A list of columns can be retrieved from the data frame using the code below. "
   ]
  },
  {
   "cell_type": "code",
   "execution_count": null,
   "metadata": {},
   "outputs": [],
   "source": [
    "bike_df.columns.values"
   ]
  },
  {
   "cell_type": "markdown",
   "metadata": {},
   "source": [
    "### Selecting a Columns\n",
    "\n",
    "The above data is organised in columns with each column showing the number of bikes at each location. If we wanted to retrieve a particular column we would use the syntax below:  "
   ]
  },
  {
   "cell_type": "code",
   "execution_count": 17,
   "metadata": {},
   "outputs": [
    {
     "data": {
      "text/plain": [
       "0         0\n",
       "1         1\n",
       "2         2\n",
       "3         1\n",
       "4         2\n",
       "       ... \n",
       "305    1208\n",
       "306     737\n",
       "307     380\n",
       "308     446\n",
       "309    1170\n",
       "Name: Côte-Sainte-Catherine, Length: 310, dtype: int64"
      ]
     },
     "execution_count": 17,
     "metadata": {},
     "output_type": "execute_result"
    }
   ],
   "source": [
    "bike_df['Côte-Sainte-Catherine']"
   ]
  },
  {
   "cell_type": "markdown",
   "metadata": {},
   "source": [
    "### Setting index\n",
    "\n",
    "The above data is *indexed* by meaningless integers. It would be more convenient to organise it by date. To do this we can set the index in pandas to a particular column using the set_index function. "
   ]
  },
  {
   "cell_type": "code",
   "execution_count": 19,
   "metadata": {},
   "outputs": [
    {
     "data": {
      "text/plain": [
       "Date\n",
       "2012-01-01       0\n",
       "2012-01-02       1\n",
       "2012-01-03       2\n",
       "2012-01-04       1\n",
       "2012-01-05       2\n",
       "              ... \n",
       "2012-11-01    1208\n",
       "2012-11-02     737\n",
       "2012-11-03     380\n",
       "2012-11-04     446\n",
       "2012-11-05    1170\n",
       "Name: Côte-Sainte-Catherine, Length: 310, dtype: int64"
      ]
     },
     "execution_count": 19,
     "metadata": {},
     "output_type": "execute_result"
    }
   ],
   "source": [
    "# We do not usually have to reload data. Done here for demonstration. \n",
    "bike_df = pd.read_csv('bikes.csv')\n",
    "\n",
    "# Setting index\n",
    "bike_df = bike_df.set_index('Date')\n",
    "\n",
    "#Selecting column\n",
    "bike_df['Côte-Sainte-Catherine']"
   ]
  },
  {
   "cell_type": "markdown",
   "metadata": {},
   "source": [
    "### Getting Index Values\n",
    "\n",
    "One can retrieve a list the index values for the data frame using the code below. The list can be stored in an array to be used later. "
   ]
  },
  {
   "cell_type": "code",
   "execution_count": 20,
   "metadata": {},
   "outputs": [
    {
     "name": "stdout",
     "output_type": "stream",
     "text": [
      "2012-01-01\n",
      "2012-01-02\n",
      "2012-01-03\n",
      "2012-01-04\n",
      "2012-01-05\n",
      "2012-01-06\n",
      "2012-01-07\n",
      "2012-01-08\n",
      "2012-01-09\n",
      "2012-01-10\n",
      "2012-01-11\n",
      "2012-01-12\n",
      "2012-01-13\n",
      "2012-01-14\n",
      "2012-01-15\n",
      "2012-01-16\n",
      "2012-01-17\n",
      "2012-01-18\n",
      "2012-01-19\n",
      "2012-01-20\n",
      "2012-01-21\n",
      "2012-01-22\n",
      "2012-01-23\n",
      "2012-01-24\n",
      "2012-01-25\n",
      "2012-01-26\n",
      "2012-01-27\n",
      "2012-01-28\n",
      "2012-01-29\n",
      "2012-01-30\n",
      "2012-01-31\n",
      "2012-02-01\n",
      "2012-02-02\n",
      "2012-02-03\n",
      "2012-02-04\n",
      "2012-02-05\n",
      "2012-02-06\n",
      "2012-02-07\n",
      "2012-02-08\n",
      "2012-02-09\n",
      "2012-02-10\n",
      "2012-02-11\n",
      "2012-02-12\n",
      "2012-02-13\n",
      "2012-02-14\n",
      "2012-02-15\n",
      "2012-02-16\n",
      "2012-02-17\n",
      "2012-02-18\n",
      "2012-02-19\n",
      "2012-02-20\n",
      "2012-02-21\n",
      "2012-02-22\n",
      "2012-02-23\n",
      "2012-02-24\n",
      "2012-02-25\n",
      "2012-02-26\n",
      "2012-02-27\n",
      "2012-02-28\n",
      "2012-02-29\n",
      "2012-03-01\n",
      "2012-03-02\n",
      "2012-03-03\n",
      "2012-03-04\n",
      "2012-03-05\n",
      "2012-03-06\n",
      "2012-03-07\n",
      "2012-03-08\n",
      "2012-03-09\n",
      "2012-03-10\n",
      "2012-03-11\n",
      "2012-03-12\n",
      "2012-03-13\n",
      "2012-03-14\n",
      "2012-03-15\n",
      "2012-03-16\n",
      "2012-03-17\n",
      "2012-03-18\n",
      "2012-03-19\n",
      "2012-03-20\n",
      "2012-03-21\n",
      "2012-03-22\n",
      "2012-03-23\n",
      "2012-03-24\n",
      "2012-03-25\n",
      "2012-03-26\n",
      "2012-03-27\n",
      "2012-03-28\n",
      "2012-03-29\n",
      "2012-03-30\n",
      "2012-03-31\n",
      "2012-04-01\n",
      "2012-04-02\n",
      "2012-04-03\n",
      "2012-04-04\n",
      "2012-04-05\n",
      "2012-04-06\n",
      "2012-04-07\n",
      "2012-04-08\n",
      "2012-04-09\n",
      "2012-04-10\n",
      "2012-04-11\n",
      "2012-04-12\n",
      "2012-04-13\n",
      "2012-04-14\n",
      "2012-04-15\n",
      "2012-04-16\n",
      "2012-04-17\n",
      "2012-04-18\n",
      "2012-04-19\n",
      "2012-04-20\n",
      "2012-04-21\n",
      "2012-04-22\n",
      "2012-04-23\n",
      "2012-04-24\n",
      "2012-04-25\n",
      "2012-04-26\n",
      "2012-04-27\n",
      "2012-04-28\n",
      "2012-04-29\n",
      "2012-04-30\n",
      "2012-05-01\n",
      "2012-05-02\n",
      "2012-05-03\n",
      "2012-05-04\n",
      "2012-05-05\n",
      "2012-05-06\n",
      "2012-05-07\n",
      "2012-05-08\n",
      "2012-05-09\n",
      "2012-05-10\n",
      "2012-05-11\n",
      "2012-05-12\n",
      "2012-05-13\n",
      "2012-05-14\n",
      "2012-05-15\n",
      "2012-05-16\n",
      "2012-05-17\n",
      "2012-05-18\n",
      "2012-05-19\n",
      "2012-05-20\n",
      "2012-05-21\n",
      "2012-05-22\n",
      "2012-05-23\n",
      "2012-05-24\n",
      "2012-05-25\n",
      "2012-05-26\n",
      "2012-05-27\n",
      "2012-05-28\n",
      "2012-05-29\n",
      "2012-05-30\n",
      "2012-05-31\n",
      "2012-06-01\n",
      "2012-06-02\n",
      "2012-06-03\n",
      "2012-06-04\n",
      "2012-06-05\n",
      "2012-06-06\n",
      "2012-06-07\n",
      "2012-06-08\n",
      "2012-06-09\n",
      "2012-06-10\n",
      "2012-06-11\n",
      "2012-06-12\n",
      "2012-06-13\n",
      "2012-06-14\n",
      "2012-06-15\n",
      "2012-06-16\n",
      "2012-06-17\n",
      "2012-06-18\n",
      "2012-06-19\n",
      "2012-06-20\n",
      "2012-06-21\n",
      "2012-06-22\n",
      "2012-06-23\n",
      "2012-06-24\n",
      "2012-06-25\n",
      "2012-06-26\n",
      "2012-06-27\n",
      "2012-06-28\n",
      "2012-06-29\n",
      "2012-06-30\n",
      "2012-07-01\n",
      "2012-07-02\n",
      "2012-07-03\n",
      "2012-07-04\n",
      "2012-07-05\n",
      "2012-07-06\n",
      "2012-07-07\n",
      "2012-07-08\n",
      "2012-07-09\n",
      "2012-07-10\n",
      "2012-07-11\n",
      "2012-07-12\n",
      "2012-07-13\n",
      "2012-07-14\n",
      "2012-07-15\n",
      "2012-07-16\n",
      "2012-07-17\n",
      "2012-07-18\n",
      "2012-07-19\n",
      "2012-07-20\n",
      "2012-07-21\n",
      "2012-07-22\n",
      "2012-07-23\n",
      "2012-07-24\n",
      "2012-07-25\n",
      "2012-07-26\n",
      "2012-07-27\n",
      "2012-07-28\n",
      "2012-07-29\n",
      "2012-07-30\n",
      "2012-07-31\n",
      "2012-08-01\n",
      "2012-08-02\n",
      "2012-08-03\n",
      "2012-08-04\n",
      "2012-08-05\n",
      "2012-08-06\n",
      "2012-08-07\n",
      "2012-08-08\n",
      "2012-08-09\n",
      "2012-08-10\n",
      "2012-08-11\n",
      "2012-08-12\n",
      "2012-08-13\n",
      "2012-08-14\n",
      "2012-08-15\n",
      "2012-08-16\n",
      "2012-08-17\n",
      "2012-08-18\n",
      "2012-08-19\n",
      "2012-08-20\n",
      "2012-08-21\n",
      "2012-08-22\n",
      "2012-08-23\n",
      "2012-08-24\n",
      "2012-08-25\n",
      "2012-08-26\n",
      "2012-08-27\n",
      "2012-08-28\n",
      "2012-08-29\n",
      "2012-08-30\n",
      "2012-08-31\n",
      "2012-09-01\n",
      "2012-09-02\n",
      "2012-09-03\n",
      "2012-09-04\n",
      "2012-09-05\n",
      "2012-09-06\n",
      "2012-09-07\n",
      "2012-09-08\n",
      "2012-09-09\n",
      "2012-09-10\n",
      "2012-09-11\n",
      "2012-09-12\n",
      "2012-09-13\n",
      "2012-09-14\n",
      "2012-09-15\n",
      "2012-09-16\n",
      "2012-09-17\n",
      "2012-09-18\n",
      "2012-09-19\n",
      "2012-09-20\n",
      "2012-09-21\n",
      "2012-09-22\n",
      "2012-09-23\n",
      "2012-09-24\n",
      "2012-09-25\n",
      "2012-09-26\n",
      "2012-09-27\n",
      "2012-09-28\n",
      "2012-09-29\n",
      "2012-09-30\n",
      "2012-10-01\n",
      "2012-10-02\n",
      "2012-10-03\n",
      "2012-10-04\n",
      "2012-10-05\n",
      "2012-10-06\n",
      "2012-10-07\n",
      "2012-10-08\n",
      "2012-10-09\n",
      "2012-10-10\n",
      "2012-10-11\n",
      "2012-10-12\n",
      "2012-10-13\n",
      "2012-10-14\n",
      "2012-10-15\n",
      "2012-10-16\n",
      "2012-10-17\n",
      "2012-10-18\n",
      "2012-10-19\n",
      "2012-10-20\n",
      "2012-10-21\n",
      "2012-10-22\n",
      "2012-10-23\n",
      "2012-10-24\n",
      "2012-10-25\n",
      "2012-10-26\n",
      "2012-10-27\n",
      "2012-10-28\n",
      "2012-10-29\n",
      "2012-10-30\n",
      "2012-10-31\n",
      "2012-11-01\n",
      "2012-11-02\n",
      "2012-11-03\n",
      "2012-11-04\n",
      "2012-11-05\n"
     ]
    }
   ],
   "source": [
    "# Getting index values\n",
    "indices = bike_df.index.values\n",
    "\n",
    "# Looping through the list of values and printing each element\n",
    "for index in indices:\n",
    "    print(index)"
   ]
  },
  {
   "cell_type": "markdown",
   "metadata": {},
   "source": [
    "## Locating from Index\n",
    "\n",
    "To locate an element from the data frame using the index of the element we can use the .loc function. \n",
    "\n",
    "```\n",
    "    df.loc['index']\n",
    "    \n",
    "```\n",
    "\n",
    "An example is shown below where we have first randomly selected an index from the list of indices retrieved earlier and then used this to retrieve the corresponding row. "
   ]
  },
  {
   "cell_type": "code",
   "execution_count": 21,
   "metadata": {},
   "outputs": [
    {
     "name": "stdout",
     "output_type": "stream",
     "text": [
      "The randomly selected index is 2012-05-06\n"
     ]
    },
    {
     "data": {
      "text/plain": [
       "Berri 1                                3411.0\n",
       "Brébeuf (données non disponibles)         NaN\n",
       "Côte-Sainte-Catherine                  1525.0\n",
       "Maisonneuve 1                          1815.0\n",
       "Maisonneuve 2                          3346.0\n",
       "du Parc                                1879.0\n",
       "Pierre-Dupuy                           2036.0\n",
       "Rachel1                                4633.0\n",
       "St-Urbain (données non disponibles)       NaN\n",
       "Name: 2012-05-06, dtype: float64"
      ]
     },
     "execution_count": 21,
     "metadata": {},
     "output_type": "execute_result"
    }
   ],
   "source": [
    "import random\n",
    "\n",
    "random_index = random.choice(indices)\n",
    "print(\"The randomly selected index is\", random_index)\n",
    "bike_df.loc[random_index]"
   ]
  },
  {
   "cell_type": "markdown",
   "metadata": {},
   "source": [
    "**Exercise: using the data frame indexed by date print every 20th element. Hint: the list _indices_ is indexed as 0,1,2,3... You could loop through this.**\n",
    "\n"
   ]
  },
  {
   "cell_type": "markdown",
   "metadata": {},
   "source": [
    "### Locating using boolean operators\n",
    "\n",
    "We can also locate elements based on boolean operations. This means, we can select elements if they meet a certain condition. This is again, best illustrated with an example.\n",
    "\n",
    "In the code below we will use our data frame to create a subset of the data that only contains elements where there were more than  200 bikes in 'du parc'. "
   ]
  },
  {
   "cell_type": "code",
   "execution_count": 22,
   "metadata": {},
   "outputs": [
    {
     "name": "stdout",
     "output_type": "stream",
     "text": [
      "The original data frame has shape (310, 9)\n",
      "The reduced data frame has shape (258, 9)\n"
     ]
    }
   ],
   "source": [
    "print(\"The original data frame has shape\", bike_df.shape)\n",
    "sub_df = bike_df.loc[bike_df['du Parc']>200]\n",
    "print(\"The reduced data frame has shape\", sub_df.shape)"
   ]
  },
  {
   "cell_type": "markdown",
   "metadata": {},
   "source": [
    "By cutting out all elements in the data frame that have less than 200 bikes in 'du Parc' we have 258 values in the data frame instead of the original 310. "
   ]
  }
 ],
 "metadata": {
  "anaconda-cloud": {},
  "kernelspec": {
   "display_name": "Python 3",
   "language": "python",
   "name": "python3"
  },
  "language_info": {
   "codemirror_mode": {
    "name": "ipython",
    "version": 3
   },
   "file_extension": ".py",
   "mimetype": "text/x-python",
   "name": "python",
   "nbconvert_exporter": "python",
   "pygments_lexer": "ipython3",
   "version": "3.10.9"
  },
  "nbpresent": {
   "slides": {
    "042d0d0a-07bc-46cc-828f-0dd2448c6670": {
     "id": "042d0d0a-07bc-46cc-828f-0dd2448c6670",
     "layout": "grid",
     "prev": "7b3bb6ad-2e1a-447a-9506-eeeeb1c6ed8a",
     "regions": {
      "180926dc-4bef-4911-81b0-362937a5800a": {
       "attrs": {
        "height": 0.08333333333333333,
        "pad": 0.01,
        "width": 0.8333333333333335,
        "x": 0.08350691725188505,
        "y": 0.08333333333333333
       },
       "content": {
        "cell": "140dbf82-cf8d-46bb-9368-6637c7c53652",
        "part": "source"
       },
       "id": "180926dc-4bef-4911-81b0-362937a5800a"
      },
      "cf3ebe6c-e6d2-48c1-99d7-21adfb27ac20": {
       "attrs": {
        "height": 0.75,
        "pad": 0.01,
        "width": 0.8333333333333335,
        "x": 0.08333333333333327,
        "y": 0.16666666666666666
       },
       "content": {
        "cell": "971b81f3-499e-428d-8d5a-9f4f700467a1",
        "part": "source"
       },
       "id": "cf3ebe6c-e6d2-48c1-99d7-21adfb27ac20"
      }
     }
    },
    "10026eea-aff8-4eac-b1f1-62b6faacde4d": {
     "id": "10026eea-aff8-4eac-b1f1-62b6faacde4d",
     "layout": "grid",
     "prev": "6302b1c5-6156-4177-b560-d8ce62f0a62a",
     "regions": {
      "0df62f04-42db-482f-8ed3-3a3c194b4d33": {
       "attrs": {
        "height": 0.3333333333333333,
        "pad": 0.01,
        "width": 0.41666666666666674,
        "x": 0.08333333333333331,
        "y": 0.3333333333333333
       },
       "content": {
        "cell": "ae0d92a3-7ba7-4a2e-bfd2-a15874bb3ddd",
        "part": "source"
       },
       "id": "0df62f04-42db-482f-8ed3-3a3c194b4d33"
      },
      "1667ccc7-c826-46ca-9415-52044fb19350": {
       "attrs": {
        "height": 0.16666666666666666,
        "pad": 0.01,
        "width": 0.8333333333333335,
        "x": 0.08333333333333331,
        "y": 0.16666666666666666
       },
       "content": {
        "cell": "a9a3dd64-7930-4d51-bda6-983c05fe611b",
        "part": "source"
       },
       "id": "1667ccc7-c826-46ca-9415-52044fb19350"
      },
      "5aa6e0ab-1a4f-4226-9e17-73f47c224ba0": {
       "attrs": {
        "height": 0.3333333333333333,
        "pad": 0.01,
        "width": 0.41666666666666674,
        "x": 0.5,
        "y": 0.3330707297169525
       },
       "content": {
        "cell": "76c800df-22c6-44fb-a4ba-cdc28dd53861",
        "part": "source"
       },
       "id": "5aa6e0ab-1a4f-4226-9e17-73f47c224ba0"
      },
      "646e419b-51fc-4b34-beed-06724332718f": {
       "attrs": {
        "height": 0.25,
        "pad": 0.01,
        "width": 0.41647665790524896,
        "x": 0.5001900087614177,
        "y": 0.6666666666666666
       },
       "content": {
        "cell": "76c800df-22c6-44fb-a4ba-cdc28dd53861",
        "part": "outputs"
       },
       "id": "646e419b-51fc-4b34-beed-06724332718f"
      },
      "a498621c-7e3d-4afc-a3af-97a094888b9c": {
       "attrs": {
        "height": 0.08333333333333333,
        "pad": 0.01,
        "width": 0.8333333333333335,
        "x": 0.08333333333333331,
        "y": 0.08333333333333333
       },
       "content": {
        "cell": "5037fea3-0068-4a53-b784-dc857b8ac0d0",
        "part": "source"
       },
       "id": "a498621c-7e3d-4afc-a3af-97a094888b9c"
      },
      "d0da65d2-7f7b-4b56-a780-c880e11be928": {
       "attrs": {
        "height": 0.25,
        "pad": 0.01,
        "width": 0.4158618438415184,
        "x": 0.08333333333333331,
        "y": 0.6666666666666666
       },
       "content": {
        "cell": "ae0d92a3-7ba7-4a2e-bfd2-a15874bb3ddd",
        "part": "outputs"
       },
       "id": "d0da65d2-7f7b-4b56-a780-c880e11be928"
      }
     }
    },
    "11e9cf41-1955-4215-9b98-aa08866ad9fd": {
     "id": "11e9cf41-1955-4215-9b98-aa08866ad9fd",
     "layout": "grid",
     "prev": "8e53fd11-674a-420f-838f-7086381afab7",
     "regions": {
      "12ffc06d-92de-4b53-a312-935e7d60b5e8": {
       "attrs": {
        "height": 0.16666666666666666,
        "pad": 0.01,
        "width": 0.8333333333333335,
        "x": 0.08403755868544596,
        "y": 0.75
       },
       "content": {
        "cell": "a2d699d9-43a9-4734-89d4-321b6aae7d93",
        "part": "outputs"
       },
       "id": "12ffc06d-92de-4b53-a312-935e7d60b5e8"
      },
      "47b4241d-97ce-412a-9e0a-32c8c3b51752": {
       "attrs": {
        "height": 0.08333333333333333,
        "pad": 0.01,
        "width": 0.8333333333333334,
        "x": 0.08280269189977238,
        "y": 0.08333333333333333
       },
       "content": {
        "cell": "140dbf82-cf8d-46bb-9368-6637c7c53652",
        "part": "source"
       },
       "id": "47b4241d-97ce-412a-9e0a-32c8c3b51752"
      },
      "eb895cc3-c009-42a8-9001-342a90aeb62f": {
       "attrs": {
        "height": 0.4166666666666667,
        "pad": 0.01,
        "width": 0.8333333333333335,
        "x": 0.08333333333333333,
        "y": 0.3333333333333333
       },
       "content": {
        "cell": "a2d699d9-43a9-4734-89d4-321b6aae7d93",
        "part": "source"
       },
       "id": "eb895cc3-c009-42a8-9001-342a90aeb62f"
      },
      "eece5dde-b746-4f14-9747-9f80e1715b9f": {
       "attrs": {
        "height": 0.16666666666666666,
        "pad": 0.01,
        "width": 0.8333333333333335,
        "x": 0.08333333333333333,
        "y": 0.16666666666666666
       },
       "content": {
        "cell": "feb9f668-d069-467f-a2b7-5ed1843a6b22",
        "part": "source"
       },
       "id": "eece5dde-b746-4f14-9747-9f80e1715b9f"
      }
     }
    },
    "3fc4c48a-995b-4602-aa49-e1dcf97b563a": {
     "id": "3fc4c48a-995b-4602-aa49-e1dcf97b563a",
     "layout": "grid",
     "prev": null,
     "regions": {
      "31a235b5-1044-4c8d-8d73-c8cda738c5f2": {
       "attrs": {
        "height": 0.5,
        "pad": 0.01,
        "width": 1,
        "x": 0,
        "y": 0.25
       },
       "content": {
        "cell": "b0aa1eff-c0c6-4c18-8954-78c095f00ecc",
        "part": "source"
       },
       "id": "31a235b5-1044-4c8d-8d73-c8cda738c5f2"
      }
     }
    },
    "59d7d127-963b-44c0-adb7-d73e577b0020": {
     "id": "59d7d127-963b-44c0-adb7-d73e577b0020",
     "layout": "grid",
     "prev": "10026eea-aff8-4eac-b1f1-62b6faacde4d",
     "regions": {
      "362cdccd-77b6-4a7a-aa42-376a35a3a8aa": {
       "attrs": {
        "height": 0.25,
        "pad": 0.01,
        "width": 0.8333333333333335,
        "x": 0.08333333333333333,
        "y": 0.6666666666666666
       },
       "content": {
        "cell": "fa0d4464-c0bb-4b78-aede-8d881be44463",
        "part": "outputs"
       },
       "id": "362cdccd-77b6-4a7a-aa42-376a35a3a8aa"
      },
      "43ff830d-5263-44f4-8f9c-6f8f9fe24a0d": {
       "attrs": {
        "height": 0.25,
        "pad": 0.01,
        "width": 0.8333333333333335,
        "x": 0.08333333333333333,
        "y": 0.08333333333333333
       },
       "content": {
        "cell": "206dc6f5-a865-4083-b1f9-95ff03bd173a",
        "part": "source"
       },
       "id": "43ff830d-5263-44f4-8f9c-6f8f9fe24a0d"
      },
      "ff5c29ee-e5e9-4571-acb7-ed41cae217b6": {
       "attrs": {
        "height": 0.3333333333333333,
        "pad": 0.01,
        "width": 0.8333333333333335,
        "x": 0.08333333333333333,
        "y": 0.3333333333333333
       },
       "content": {
        "cell": "fa0d4464-c0bb-4b78-aede-8d881be44463",
        "part": "source"
       },
       "id": "ff5c29ee-e5e9-4571-acb7-ed41cae217b6"
      }
     }
    },
    "6302b1c5-6156-4177-b560-d8ce62f0a62a": {
     "id": "6302b1c5-6156-4177-b560-d8ce62f0a62a",
     "prev": "864b4a9d-a0ed-4026-861d-b3e6faed383b",
     "regions": {
      "17f8371d-3d37-46da-908c-d0963a7559de": {
       "attrs": {
        "height": 1,
        "width": 1,
        "x": 0,
        "y": 0
       },
       "content": {
        "cell": "ed8dcae7-780d-4532-bebf-720ee2417cdd",
        "part": "source"
       },
       "id": "17f8371d-3d37-46da-908c-d0963a7559de"
      }
     }
    },
    "7b3bb6ad-2e1a-447a-9506-eeeeb1c6ed8a": {
     "id": "7b3bb6ad-2e1a-447a-9506-eeeeb1c6ed8a",
     "layout": "grid",
     "prev": "11e9cf41-1955-4215-9b98-aa08866ad9fd",
     "regions": {
      "31d98a20-c421-416d-8350-df14d0595dc3": {
       "attrs": {
        "height": 0.08333333333333333,
        "pad": 0.01,
        "width": 0.8333333333333334,
        "x": 0.08333333333333333,
        "y": 0.4166666666666667
       },
       "content": {
        "cell": "b59a391f-72d0-45a5-be1b-2c8bbd6da090",
        "part": "source"
       },
       "id": "31d98a20-c421-416d-8350-df14d0595dc3"
      },
      "834fcd77-6b8d-4322-87e4-acb07f83fd19": {
       "attrs": {
        "height": 0.08333333333333333,
        "pad": 0.01,
        "width": 0.8333333333333335,
        "x": 0.08333333333333333,
        "y": 0.3333333333333333
       },
       "content": {
        "cell": "b7ee659f-cc73-4187-a434-27145d57fa22",
        "part": "source"
       },
       "id": "834fcd77-6b8d-4322-87e4-acb07f83fd19"
      },
      "a0c5a7d9-0c32-49ab-95d1-49cdbeb62568": {
       "attrs": {
        "height": 0.3333333333333333,
        "pad": 0.01,
        "width": 0.8333333333333335,
        "x": 0.08333333333333333,
        "y": 0.5
       },
       "content": {
        "cell": "2339578d-fe78-4124-8866-2eea7f69aa09",
        "part": "source"
       },
       "id": "a0c5a7d9-0c32-49ab-95d1-49cdbeb62568"
      },
      "b9cd45d7-ff6a-4b56-b0a8-640a10f666c3": {
       "attrs": {
        "height": 0.08333333333333333,
        "pad": 0.01,
        "width": 0.8333333333333334,
        "x": 0.08280269189977238,
        "y": 0.08333333333333333
       },
       "content": {
        "cell": "0b3e8dce-851f-4fb4-b391-32cbe52043de",
        "part": "source"
       },
       "id": "b9cd45d7-ff6a-4b56-b0a8-640a10f666c3"
      },
      "d77f02a3-7fd2-4e1a-984d-06a25a936177": {
       "attrs": {
        "height": 0.16666666666666666,
        "pad": 0.01,
        "width": 0.8333333333333335,
        "x": 0.08333333333333333,
        "y": 0.16666666666666666
       },
       "content": {
        "cell": "bcb0b5f5-0f71-4f55-8a80-f769cc2f56ea",
        "part": "source"
       },
       "id": "d77f02a3-7fd2-4e1a-984d-06a25a936177"
      },
      "da15567a-94ad-4526-b311-d61c54e9254e": {
       "attrs": {
        "height": 0.08333333333333333,
        "pad": 0.01,
        "width": 0.8333333333333335,
        "x": 0.08333333333333333,
        "y": 0.8333333333333334
       },
       "content": {
        "cell": "2339578d-fe78-4124-8866-2eea7f69aa09",
        "part": "outputs"
       },
       "id": "da15567a-94ad-4526-b311-d61c54e9254e"
      }
     }
    },
    "864b4a9d-a0ed-4026-861d-b3e6faed383b": {
     "id": "864b4a9d-a0ed-4026-861d-b3e6faed383b",
     "layout": "grid",
     "prev": "f249c185-90db-476c-a784-809d06f44b8e",
     "regions": {
      "0f55d7e2-3199-46d4-b30e-d593114d28ea": {
       "attrs": {
        "height": 0.25,
        "pad": 0.01,
        "width": 0.8333333333333335,
        "x": 0.08333333333333333,
        "y": 0.08333333333333333
       },
       "content": null,
       "id": "0f55d7e2-3199-46d4-b30e-d593114d28ea"
      },
      "a8824b40-52df-43f2-92d6-4085c5c845ee": {
       "attrs": {
        "height": 0.25,
        "pad": 0.01,
        "width": 0.8333333333333335,
        "x": 0.08333333333333333,
        "y": 0.6666666666666666
       },
       "content": null,
       "id": "a8824b40-52df-43f2-92d6-4085c5c845ee"
      },
      "b9157309-36e2-43e9-8536-058314a327d2": {
       "attrs": {
        "height": 0.3333333333333333,
        "pad": 0.01,
        "width": 0.8333333333333335,
        "x": 0.08333333333333333,
        "y": 0.3333333333333333
       },
       "content": null,
       "id": "b9157309-36e2-43e9-8536-058314a327d2"
      }
     }
    },
    "8e53fd11-674a-420f-838f-7086381afab7": {
     "id": "8e53fd11-674a-420f-838f-7086381afab7",
     "layout": "grid",
     "prev": "59d7d127-963b-44c0-adb7-d73e577b0020",
     "regions": {
      "2d0e8127-bb54-484a-84f8-c49e24b1043d": {
       "attrs": {
        "height": 0.08333333333333333,
        "pad": 0.01,
        "width": 0.8333333333333334,
        "x": 0.08280269189977238,
        "y": 0.08333333333333333
       },
       "content": {
        "cell": "31866aa2-52b9-4f62-93c8-49d94c281907",
        "part": "source"
       },
       "id": "2d0e8127-bb54-484a-84f8-c49e24b1043d"
      },
      "675de19e-a250-4a76-b670-2396dcff85b9": {
       "attrs": {
        "height": 0.4166666666666667,
        "pad": 0.01,
        "width": 0.8333333333333334,
        "x": 0.08333333333333333,
        "y": 0.5
       },
       "content": {
        "cell": "fc918a6c-e221-4c33-a170-113037647294",
        "part": "outputs"
       },
       "id": "675de19e-a250-4a76-b670-2396dcff85b9"
      },
      "8acbe8da-8aae-4929-b010-ba1421e5ee81": {
       "attrs": {
        "height": 0.3333333333333333,
        "pad": 0.01,
        "width": 0.8333333333333334,
        "x": 0.08333333333333333,
        "y": 0.16666666666666666
       },
       "content": {
        "cell": "fc918a6c-e221-4c33-a170-113037647294",
        "part": "source"
       },
       "id": "8acbe8da-8aae-4929-b010-ba1421e5ee81"
      }
     }
    },
    "ae7b5917-b3bf-4e06-9b08-7904f9002a24": {
     "id": "ae7b5917-b3bf-4e06-9b08-7904f9002a24",
     "layout": "grid",
     "prev": "d4b851e6-f61e-46dc-99cd-322b5376d240",
     "regions": {
      "6d012e44-912a-47e7-9a58-88a74cb255d2": {
       "attrs": {
        "height": 0.16666666666666666,
        "pad": 0.01,
        "width": 0.8333333333333335,
        "x": 0.0826291079812206,
        "y": 0.5
       },
       "content": {
        "cell": "150d4e4f-0e93-4e69-808d-ef98ff205724",
        "part": "outputs"
       },
       "id": "6d012e44-912a-47e7-9a58-88a74cb255d2"
      },
      "7ced0cd9-f16e-46f7-a39d-704dd8c2bd93": {
       "attrs": {
        "height": 0.16666666666666666,
        "pad": 0.01,
        "width": 0.8333333333333335,
        "x": 0.08333333333333333,
        "y": 0.3333333333333333
       },
       "content": {
        "cell": "150d4e4f-0e93-4e69-808d-ef98ff205724",
        "part": "source"
       },
       "id": "7ced0cd9-f16e-46f7-a39d-704dd8c2bd93"
      },
      "97b1b39c-7c85-4269-bd22-b2fe107d7112": {
       "attrs": {
        "height": 0.25,
        "pad": 0.01,
        "width": 0.8333333333333335,
        "x": 0.08403755868544596,
        "y": 0.6666666666666666
       },
       "content": {
        "cell": "95f1492a-a63f-45d8-91b8-3122e39e34c4",
        "part": "source"
       },
       "id": "97b1b39c-7c85-4269-bd22-b2fe107d7112"
      },
      "a23ae7d1-7b81-41ab-9a60-ccf4d585c9c8": {
       "attrs": {
        "height": 0.25,
        "pad": 0.01,
        "width": 0.8333333333333335,
        "x": 0.08333333333333333,
        "y": 0.08333333333333333
       },
       "content": {
        "cell": "b5647e52-f1cc-47e9-8f09-907fe54d290b",
        "part": "source"
       },
       "id": "a23ae7d1-7b81-41ab-9a60-ccf4d585c9c8"
      }
     }
    },
    "d4b851e6-f61e-46dc-99cd-322b5376d240": {
     "id": "d4b851e6-f61e-46dc-99cd-322b5376d240",
     "prev": "3fc4c48a-995b-4602-aa49-e1dcf97b563a",
     "regions": {
      "9d24df78-254e-4b68-89f4-3efb8bc89b60": {
       "attrs": {
        "height": 1,
        "width": 1,
        "x": 0,
        "y": 0
       },
       "content": {
        "cell": "e9aa60f1-0840-4287-9b73-969d586a5e57",
        "part": "source"
       },
       "id": "9d24df78-254e-4b68-89f4-3efb8bc89b60"
      }
     }
    },
    "f249c185-90db-476c-a784-809d06f44b8e": {
     "id": "f249c185-90db-476c-a784-809d06f44b8e",
     "layout": "grid",
     "prev": "ae7b5917-b3bf-4e06-9b08-7904f9002a24",
     "regions": {
      "24fc8252-fc9e-4d97-b3b5-2f0c27aed742": {
       "attrs": {
        "height": 0.25,
        "pad": 0.01,
        "width": 0.8333333333333335,
        "x": 0.08333333333333333,
        "y": 0.6666666666666666
       },
       "content": {
        "cell": "fa0d4464-c0bb-4b78-aede-8d881be44463",
        "part": "outputs"
       },
       "id": "24fc8252-fc9e-4d97-b3b5-2f0c27aed742"
      },
      "6729e461-4f55-4a1c-941f-f6d1d70616dc": {
       "attrs": {
        "height": 0.3333333333333333,
        "pad": 0.01,
        "width": 0.8333333333333335,
        "x": 0.08333333333333333,
        "y": 0.3333333333333333
       },
       "content": {
        "cell": "fa0d4464-c0bb-4b78-aede-8d881be44463",
        "part": "source"
       },
       "id": "6729e461-4f55-4a1c-941f-f6d1d70616dc"
      },
      "c9771b50-ed59-4d17-b357-a821c3bcbb31": {
       "attrs": {
        "height": 0.25,
        "pad": 0.01,
        "width": 0.8333333333333335,
        "x": 0.08333333333333333,
        "y": 0.08333333333333333
       },
       "content": {
        "cell": "206dc6f5-a865-4083-b1f9-95ff03bd173a",
        "part": "source"
       },
       "id": "c9771b50-ed59-4d17-b357-a821c3bcbb31"
      }
     }
    }
   },
   "themes": {
    "default": "fca42334-7c36-4677-831d-9cd2fa0c71eb",
    "theme": {
     "fca42334-7c36-4677-831d-9cd2fa0c71eb": {
      "id": "fca42334-7c36-4677-831d-9cd2fa0c71eb",
      "palette": {
       "19cc588f-0593-49c9-9f4b-e4d7cc113b1c": {
        "id": "19cc588f-0593-49c9-9f4b-e4d7cc113b1c",
        "rgb": [
         252,
         252,
         252
        ]
       },
       "31af15d2-7e15-44c5-ab5e-e04b16a89eff": {
        "id": "31af15d2-7e15-44c5-ab5e-e04b16a89eff",
        "rgb": [
         68,
         68,
         68
        ]
       },
       "50f92c45-a630-455b-aec3-788680ec7410": {
        "id": "50f92c45-a630-455b-aec3-788680ec7410",
        "rgb": [
         155,
         177,
         192
        ]
       },
       "c5cc3653-2ee1-402a-aba2-7caae1da4f6c": {
        "id": "c5cc3653-2ee1-402a-aba2-7caae1da4f6c",
        "rgb": [
         43,
         126,
         184
        ]
       },
       "efa7f048-9acb-414c-8b04-a26811511a21": {
        "id": "efa7f048-9acb-414c-8b04-a26811511a21",
        "rgb": [
         25.118061674008803,
         73.60176211453744,
         107.4819383259912
        ]
       }
      },
      "rules": {
       "blockquote": {
        "color": "50f92c45-a630-455b-aec3-788680ec7410"
       },
       "code": {
        "font-family": "Anonymous Pro"
       },
       "h1": {
        "color": "c5cc3653-2ee1-402a-aba2-7caae1da4f6c",
        "font-family": "Lato",
        "font-size": 8
       },
       "h2": {
        "color": "c5cc3653-2ee1-402a-aba2-7caae1da4f6c",
        "font-family": "Lato",
        "font-size": 6
       },
       "h3": {
        "color": "50f92c45-a630-455b-aec3-788680ec7410",
        "font-family": "Lato",
        "font-size": 5.5
       },
       "h4": {
        "color": "c5cc3653-2ee1-402a-aba2-7caae1da4f6c",
        "font-family": "Lato",
        "font-size": 5
       },
       "h5": {
        "font-family": "Lato"
       },
       "h6": {
        "font-family": "Lato"
       },
       "h7": {
        "font-family": "Lato"
       },
       "pre": {
        "font-family": "Anonymous Pro",
        "font-size": 4
       }
      },
      "text-base": {
       "font-family": "Merriweather",
       "font-size": 4
      }
     }
    }
   }
  }
 },
 "nbformat": 4,
 "nbformat_minor": 1
}
